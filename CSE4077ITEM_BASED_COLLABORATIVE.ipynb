{
 "cells": [
  {
   "cell_type": "code",
   "execution_count": 1,
   "metadata": {
    "execution": {
     "iopub.execute_input": "2022-04-22T18:52:48.585227Z",
     "iopub.status.busy": "2022-04-22T18:52:48.584607Z",
     "iopub.status.idle": "2022-04-22T18:52:48.593472Z",
     "shell.execute_reply": "2022-04-22T18:52:48.592771Z"
    },
    "papermill": {
     "duration": 0.046949,
     "end_time": "2022-04-22T18:52:48.596033",
     "exception": false,
     "start_time": "2022-04-22T18:52:48.549084",
     "status": "completed"
    },
    "tags": []
   },
   "outputs": [],
   "source": [
    "import pandas as pd\n",
    "pd.set_option('display.max_columns', 20)\n",
    "pd.set_option('display.width', 500)"
   ]
  },
  {
   "cell_type": "code",
   "execution_count": 2,
   "metadata": {
    "execution": {
     "iopub.execute_input": "2022-04-22T18:52:48.661105Z",
     "iopub.status.busy": "2022-04-22T18:52:48.660598Z",
     "iopub.status.idle": "2022-04-22T18:53:24.630081Z",
     "shell.execute_reply": "2022-04-22T18:53:24.628867Z"
    },
    "papermill": {
     "duration": 36.035644,
     "end_time": "2022-04-22T18:53:24.662993",
     "exception": false,
     "start_time": "2022-04-22T18:52:48.627349",
     "status": "completed"
    },
    "tags": []
   },
   "outputs": [
    {
     "data": {
      "text/html": [
       "<div>\n",
       "<style scoped>\n",
       "    .dataframe tbody tr th:only-of-type {\n",
       "        vertical-align: middle;\n",
       "    }\n",
       "\n",
       "    .dataframe tbody tr th {\n",
       "        vertical-align: top;\n",
       "    }\n",
       "\n",
       "    .dataframe thead th {\n",
       "        text-align: right;\n",
       "    }\n",
       "</style>\n",
       "<table border=\"1\" class=\"dataframe\">\n",
       "  <thead>\n",
       "    <tr style=\"text-align: right;\">\n",
       "      <th></th>\n",
       "      <th>movieId</th>\n",
       "      <th>title</th>\n",
       "      <th>genres</th>\n",
       "      <th>userId</th>\n",
       "      <th>rating</th>\n",
       "      <th>timestamp</th>\n",
       "    </tr>\n",
       "  </thead>\n",
       "  <tbody>\n",
       "    <tr>\n",
       "      <th>0</th>\n",
       "      <td>1</td>\n",
       "      <td>Toy Story (1995)</td>\n",
       "      <td>Adventure|Animation|Children|Comedy|Fantasy</td>\n",
       "      <td>3.0</td>\n",
       "      <td>4.0</td>\n",
       "      <td>1999-12-11 13:36:47</td>\n",
       "    </tr>\n",
       "    <tr>\n",
       "      <th>1</th>\n",
       "      <td>1</td>\n",
       "      <td>Toy Story (1995)</td>\n",
       "      <td>Adventure|Animation|Children|Comedy|Fantasy</td>\n",
       "      <td>6.0</td>\n",
       "      <td>5.0</td>\n",
       "      <td>1997-03-13 17:50:52</td>\n",
       "    </tr>\n",
       "    <tr>\n",
       "      <th>2</th>\n",
       "      <td>1</td>\n",
       "      <td>Toy Story (1995)</td>\n",
       "      <td>Adventure|Animation|Children|Comedy|Fantasy</td>\n",
       "      <td>8.0</td>\n",
       "      <td>4.0</td>\n",
       "      <td>1996-06-05 13:37:51</td>\n",
       "    </tr>\n",
       "    <tr>\n",
       "      <th>3</th>\n",
       "      <td>1</td>\n",
       "      <td>Toy Story (1995)</td>\n",
       "      <td>Adventure|Animation|Children|Comedy|Fantasy</td>\n",
       "      <td>10.0</td>\n",
       "      <td>4.0</td>\n",
       "      <td>1999-11-25 02:44:47</td>\n",
       "    </tr>\n",
       "    <tr>\n",
       "      <th>4</th>\n",
       "      <td>1</td>\n",
       "      <td>Toy Story (1995)</td>\n",
       "      <td>Adventure|Animation|Children|Comedy|Fantasy</td>\n",
       "      <td>11.0</td>\n",
       "      <td>4.5</td>\n",
       "      <td>2009-01-02 01:13:41</td>\n",
       "    </tr>\n",
       "  </tbody>\n",
       "</table>\n",
       "</div>"
      ],
      "text/plain": [
       "   movieId             title                                       genres  userId  rating            timestamp\n",
       "0        1  Toy Story (1995)  Adventure|Animation|Children|Comedy|Fantasy     3.0     4.0  1999-12-11 13:36:47\n",
       "1        1  Toy Story (1995)  Adventure|Animation|Children|Comedy|Fantasy     6.0     5.0  1997-03-13 17:50:52\n",
       "2        1  Toy Story (1995)  Adventure|Animation|Children|Comedy|Fantasy     8.0     4.0  1996-06-05 13:37:51\n",
       "3        1  Toy Story (1995)  Adventure|Animation|Children|Comedy|Fantasy    10.0     4.0  1999-11-25 02:44:47\n",
       "4        1  Toy Story (1995)  Adventure|Animation|Children|Comedy|Fantasy    11.0     4.5  2009-01-02 01:13:41"
      ]
     },
     "execution_count": 2,
     "metadata": {},
     "output_type": "execute_result"
    }
   ],
   "source": [
    "movie = pd.read_csv('../input/movielens-20m-dataset/movie.csv')\n",
    "rating = pd.read_csv('../input/movielens-20m-dataset/rating.csv')\n",
    "df = movie.merge(rating, how=\"left\", on=\"movieId\")\n",
    "df.head()"
   ]
  },
  {
   "cell_type": "markdown",
   "metadata": {
    "papermill": {
     "duration": 0.032383,
     "end_time": "2022-04-22T18:53:24.726401",
     "exception": false,
     "start_time": "2022-04-22T18:53:24.694018",
     "status": "completed"
    },
    "tags": []
   },
   "source": [
    "# Create user_movie matrix with users in rows and movies in columns."
   ]
  },
  {
   "cell_type": "code",
   "execution_count": 3,
   "metadata": {
    "execution": {
     "iopub.execute_input": "2022-04-22T18:53:24.793751Z",
     "iopub.status.busy": "2022-04-22T18:53:24.793190Z",
     "iopub.status.idle": "2022-04-22T18:53:24.799653Z",
     "shell.execute_reply": "2022-04-22T18:53:24.798739Z"
    },
    "papermill": {
     "duration": 0.046532,
     "end_time": "2022-04-22T18:53:24.801562",
     "exception": false,
     "start_time": "2022-04-22T18:53:24.755030",
     "status": "completed"
    },
    "tags": []
   },
   "outputs": [
    {
     "data": {
      "text/plain": [
       "(20000797, 6)"
      ]
     },
     "execution_count": 3,
     "metadata": {},
     "output_type": "execute_result"
    }
   ],
   "source": [
    "df.shape"
   ]
  },
  {
   "cell_type": "markdown",
   "metadata": {
    "papermill": {
     "duration": 0.030926,
     "end_time": "2022-04-22T18:53:24.864561",
     "exception": false,
     "start_time": "2022-04-22T18:53:24.833635",
     "status": "completed"
    },
    "tags": []
   },
   "source": [
    "# total number of comments is 20000797\n",
    "# number of unique movies is 27262"
   ]
  },
  {
   "cell_type": "code",
   "execution_count": 4,
   "metadata": {
    "execution": {
     "iopub.execute_input": "2022-04-22T18:53:24.927771Z",
     "iopub.status.busy": "2022-04-22T18:53:24.927363Z",
     "iopub.status.idle": "2022-04-22T18:53:26.559652Z",
     "shell.execute_reply": "2022-04-22T18:53:26.558734Z"
    },
    "papermill": {
     "duration": 1.666615,
     "end_time": "2022-04-22T18:53:26.562218",
     "exception": false,
     "start_time": "2022-04-22T18:53:24.895603",
     "status": "completed"
    },
    "tags": []
   },
   "outputs": [
    {
     "data": {
      "text/plain": [
       "27262"
      ]
     },
     "execution_count": 4,
     "metadata": {},
     "output_type": "execute_result"
    }
   ],
   "source": [
    "df[\"title\"].nunique()"
   ]
  },
  {
   "cell_type": "markdown",
   "metadata": {
    "papermill": {
     "duration": 0.033416,
     "end_time": "2022-04-22T18:53:26.632498",
     "exception": false,
     "start_time": "2022-04-22T18:53:26.599082",
     "status": "completed"
    },
    "tags": []
   },
   "source": [
    "# number of comments per movie"
   ]
  },
  {
   "cell_type": "code",
   "execution_count": 5,
   "metadata": {
    "execution": {
     "iopub.execute_input": "2022-04-22T18:53:26.705839Z",
     "iopub.status.busy": "2022-04-22T18:53:26.705580Z",
     "iopub.status.idle": "2022-04-22T18:53:27.626102Z",
     "shell.execute_reply": "2022-04-22T18:53:27.625051Z"
    },
    "papermill": {
     "duration": 0.956839,
     "end_time": "2022-04-22T18:53:27.628473",
     "exception": false,
     "start_time": "2022-04-22T18:53:26.671634",
     "status": "completed"
    },
    "tags": []
   },
   "outputs": [
    {
     "data": {
      "text/html": [
       "<div>\n",
       "<style scoped>\n",
       "    .dataframe tbody tr th:only-of-type {\n",
       "        vertical-align: middle;\n",
       "    }\n",
       "\n",
       "    .dataframe tbody tr th {\n",
       "        vertical-align: top;\n",
       "    }\n",
       "\n",
       "    .dataframe thead th {\n",
       "        text-align: right;\n",
       "    }\n",
       "</style>\n",
       "<table border=\"1\" class=\"dataframe\">\n",
       "  <thead>\n",
       "    <tr style=\"text-align: right;\">\n",
       "      <th></th>\n",
       "      <th>title</th>\n",
       "    </tr>\n",
       "  </thead>\n",
       "  <tbody>\n",
       "    <tr>\n",
       "      <th>Pulp Fiction (1994)</th>\n",
       "      <td>67310</td>\n",
       "    </tr>\n",
       "    <tr>\n",
       "      <th>Forrest Gump (1994)</th>\n",
       "      <td>66172</td>\n",
       "    </tr>\n",
       "    <tr>\n",
       "      <th>Shawshank Redemption, The (1994)</th>\n",
       "      <td>63366</td>\n",
       "    </tr>\n",
       "    <tr>\n",
       "      <th>Silence of the Lambs, The (1991)</th>\n",
       "      <td>63299</td>\n",
       "    </tr>\n",
       "    <tr>\n",
       "      <th>Jurassic Park (1993)</th>\n",
       "      <td>59715</td>\n",
       "    </tr>\n",
       "  </tbody>\n",
       "</table>\n",
       "</div>"
      ],
      "text/plain": [
       "                                  title\n",
       "Pulp Fiction (1994)               67310\n",
       "Forrest Gump (1994)               66172\n",
       "Shawshank Redemption, The (1994)  63366\n",
       "Silence of the Lambs, The (1991)  63299\n",
       "Jurassic Park (1993)              59715"
      ]
     },
     "execution_count": 5,
     "metadata": {},
     "output_type": "execute_result"
    }
   ],
   "source": [
    "rating_counts = pd.DataFrame(df[\"title\"].value_counts())\n",
    "rating_counts.head()"
   ]
  },
  {
   "cell_type": "markdown",
   "metadata": {
    "papermill": {
     "duration": 0.030991,
     "end_time": "2022-04-22T18:53:27.694201",
     "exception": false,
     "start_time": "2022-04-22T18:53:27.663210",
     "status": "completed"
    },
    "tags": []
   },
   "source": [
    "# Narrow the scope to movies with 1000 or more comments, the total number of comments is 17766015 and the total number of movies is 3159"
   ]
  },
  {
   "cell_type": "code",
   "execution_count": 6,
   "metadata": {
    "execution": {
     "iopub.execute_input": "2022-04-22T18:53:27.765004Z",
     "iopub.status.busy": "2022-04-22T18:53:27.764219Z",
     "iopub.status.idle": "2022-04-22T18:53:34.486717Z",
     "shell.execute_reply": "2022-04-22T18:53:34.484258Z"
    },
    "papermill": {
     "duration": 6.761845,
     "end_time": "2022-04-22T18:53:34.490017",
     "exception": false,
     "start_time": "2022-04-22T18:53:27.728172",
     "status": "completed"
    },
    "tags": []
   },
   "outputs": [
    {
     "data": {
      "text/plain": [
       "(17766015, 6)"
      ]
     },
     "execution_count": 6,
     "metadata": {},
     "output_type": "execute_result"
    }
   ],
   "source": [
    "rare_movies = rating_counts[rating_counts[\"title\"] <= 1000].index\n",
    "\n",
    "common_movies = df[~df[\"title\"].isin(rare_movies)]\n",
    "\n",
    "common_movies.shape"
   ]
  },
  {
   "cell_type": "code",
   "execution_count": 7,
   "metadata": {
    "execution": {
     "iopub.execute_input": "2022-04-22T18:53:34.565037Z",
     "iopub.status.busy": "2022-04-22T18:53:34.564247Z",
     "iopub.status.idle": "2022-04-22T18:53:35.939270Z",
     "shell.execute_reply": "2022-04-22T18:53:35.938238Z"
    },
    "papermill": {
     "duration": 1.418362,
     "end_time": "2022-04-22T18:53:35.941389",
     "exception": false,
     "start_time": "2022-04-22T18:53:34.523027",
     "status": "completed"
    },
    "tags": []
   },
   "outputs": [
    {
     "data": {
      "text/plain": [
       "3159"
      ]
     },
     "execution_count": 7,
     "metadata": {},
     "output_type": "execute_result"
    }
   ],
   "source": [
    "common_movies[\"title\"].nunique()"
   ]
  },
  {
   "cell_type": "markdown",
   "metadata": {
    "papermill": {
     "duration": 0.031568,
     "end_time": "2022-04-22T18:53:36.002967",
     "exception": false,
     "start_time": "2022-04-22T18:53:35.971399",
     "status": "completed"
    },
    "tags": []
   },
   "source": [
    "# Create user_movie matrix with users in rows and movies in columns"
   ]
  },
  {
   "cell_type": "code",
   "execution_count": 8,
   "metadata": {
    "execution": {
     "iopub.execute_input": "2022-04-22T18:53:36.065603Z",
     "iopub.status.busy": "2022-04-22T18:53:36.065291Z",
     "iopub.status.idle": "2022-04-22T18:54:27.198288Z",
     "shell.execute_reply": "2022-04-22T18:54:27.197338Z"
    },
    "papermill": {
     "duration": 51.195298,
     "end_time": "2022-04-22T18:54:27.229528",
     "exception": false,
     "start_time": "2022-04-22T18:53:36.034230",
     "status": "completed"
    },
    "tags": []
   },
   "outputs": [
    {
     "data": {
      "text/plain": [
       "(138493, 3159)"
      ]
     },
     "execution_count": 8,
     "metadata": {},
     "output_type": "execute_result"
    }
   ],
   "source": [
    "user_movie_df = common_movies.pivot_table(index=[\"userId\"], columns=[\"title\"], values=\"rating\")\n",
    "\n",
    "user_movie_df.shape"
   ]
  },
  {
   "cell_type": "code",
   "execution_count": 9,
   "metadata": {
    "execution": {
     "iopub.execute_input": "2022-04-22T18:54:27.291256Z",
     "iopub.status.busy": "2022-04-22T18:54:27.290330Z",
     "iopub.status.idle": "2022-04-22T18:54:27.316157Z",
     "shell.execute_reply": "2022-04-22T18:54:27.315133Z"
    },
    "papermill": {
     "duration": 0.059381,
     "end_time": "2022-04-22T18:54:27.318044",
     "exception": false,
     "start_time": "2022-04-22T18:54:27.258663",
     "status": "completed"
    },
    "tags": []
   },
   "outputs": [
    {
     "data": {
      "text/html": [
       "<div>\n",
       "<style scoped>\n",
       "    .dataframe tbody tr th:only-of-type {\n",
       "        vertical-align: middle;\n",
       "    }\n",
       "\n",
       "    .dataframe tbody tr th {\n",
       "        vertical-align: top;\n",
       "    }\n",
       "\n",
       "    .dataframe thead th {\n",
       "        text-align: right;\n",
       "    }\n",
       "</style>\n",
       "<table border=\"1\" class=\"dataframe\">\n",
       "  <thead>\n",
       "    <tr style=\"text-align: right;\">\n",
       "      <th>title</th>\n",
       "      <th>'burbs, The (1989)</th>\n",
       "      <th>(500) Days of Summer (2009)</th>\n",
       "      <th>*batteries not included (1987)</th>\n",
       "      <th>...And Justice for All (1979)</th>\n",
       "      <th>10 Things I Hate About You (1999)</th>\n",
       "      <th>10,000 BC (2008)</th>\n",
       "      <th>101 Dalmatians (1996)</th>\n",
       "      <th>101 Dalmatians (One Hundred and One Dalmatians) (1961)</th>\n",
       "      <th>102 Dalmatians (2000)</th>\n",
       "      <th>12 Angry Men (1957)</th>\n",
       "      <th>...</th>\n",
       "      <th>Zero Dark Thirty (2012)</th>\n",
       "      <th>Zero Effect (1998)</th>\n",
       "      <th>Zodiac (2007)</th>\n",
       "      <th>Zombieland (2009)</th>\n",
       "      <th>Zoolander (2001)</th>\n",
       "      <th>Zulu (1964)</th>\n",
       "      <th>[REC] (2007)</th>\n",
       "      <th>eXistenZ (1999)</th>\n",
       "      <th>xXx (2002)</th>\n",
       "      <th>¡Three Amigos! (1986)</th>\n",
       "    </tr>\n",
       "    <tr>\n",
       "      <th>userId</th>\n",
       "      <th></th>\n",
       "      <th></th>\n",
       "      <th></th>\n",
       "      <th></th>\n",
       "      <th></th>\n",
       "      <th></th>\n",
       "      <th></th>\n",
       "      <th></th>\n",
       "      <th></th>\n",
       "      <th></th>\n",
       "      <th></th>\n",
       "      <th></th>\n",
       "      <th></th>\n",
       "      <th></th>\n",
       "      <th></th>\n",
       "      <th></th>\n",
       "      <th></th>\n",
       "      <th></th>\n",
       "      <th></th>\n",
       "      <th></th>\n",
       "      <th></th>\n",
       "    </tr>\n",
       "  </thead>\n",
       "  <tbody>\n",
       "    <tr>\n",
       "      <th>1.0</th>\n",
       "      <td>NaN</td>\n",
       "      <td>NaN</td>\n",
       "      <td>NaN</td>\n",
       "      <td>NaN</td>\n",
       "      <td>NaN</td>\n",
       "      <td>NaN</td>\n",
       "      <td>NaN</td>\n",
       "      <td>NaN</td>\n",
       "      <td>NaN</td>\n",
       "      <td>NaN</td>\n",
       "      <td>...</td>\n",
       "      <td>NaN</td>\n",
       "      <td>NaN</td>\n",
       "      <td>NaN</td>\n",
       "      <td>NaN</td>\n",
       "      <td>NaN</td>\n",
       "      <td>NaN</td>\n",
       "      <td>NaN</td>\n",
       "      <td>NaN</td>\n",
       "      <td>NaN</td>\n",
       "      <td>NaN</td>\n",
       "    </tr>\n",
       "    <tr>\n",
       "      <th>2.0</th>\n",
       "      <td>NaN</td>\n",
       "      <td>NaN</td>\n",
       "      <td>NaN</td>\n",
       "      <td>NaN</td>\n",
       "      <td>NaN</td>\n",
       "      <td>NaN</td>\n",
       "      <td>NaN</td>\n",
       "      <td>NaN</td>\n",
       "      <td>NaN</td>\n",
       "      <td>NaN</td>\n",
       "      <td>...</td>\n",
       "      <td>NaN</td>\n",
       "      <td>NaN</td>\n",
       "      <td>NaN</td>\n",
       "      <td>NaN</td>\n",
       "      <td>NaN</td>\n",
       "      <td>NaN</td>\n",
       "      <td>NaN</td>\n",
       "      <td>NaN</td>\n",
       "      <td>NaN</td>\n",
       "      <td>NaN</td>\n",
       "    </tr>\n",
       "    <tr>\n",
       "      <th>3.0</th>\n",
       "      <td>NaN</td>\n",
       "      <td>NaN</td>\n",
       "      <td>NaN</td>\n",
       "      <td>NaN</td>\n",
       "      <td>NaN</td>\n",
       "      <td>NaN</td>\n",
       "      <td>NaN</td>\n",
       "      <td>NaN</td>\n",
       "      <td>NaN</td>\n",
       "      <td>NaN</td>\n",
       "      <td>...</td>\n",
       "      <td>NaN</td>\n",
       "      <td>NaN</td>\n",
       "      <td>NaN</td>\n",
       "      <td>NaN</td>\n",
       "      <td>NaN</td>\n",
       "      <td>NaN</td>\n",
       "      <td>NaN</td>\n",
       "      <td>NaN</td>\n",
       "      <td>NaN</td>\n",
       "      <td>NaN</td>\n",
       "    </tr>\n",
       "    <tr>\n",
       "      <th>4.0</th>\n",
       "      <td>NaN</td>\n",
       "      <td>NaN</td>\n",
       "      <td>NaN</td>\n",
       "      <td>NaN</td>\n",
       "      <td>NaN</td>\n",
       "      <td>NaN</td>\n",
       "      <td>NaN</td>\n",
       "      <td>NaN</td>\n",
       "      <td>NaN</td>\n",
       "      <td>NaN</td>\n",
       "      <td>...</td>\n",
       "      <td>NaN</td>\n",
       "      <td>NaN</td>\n",
       "      <td>NaN</td>\n",
       "      <td>NaN</td>\n",
       "      <td>NaN</td>\n",
       "      <td>NaN</td>\n",
       "      <td>NaN</td>\n",
       "      <td>NaN</td>\n",
       "      <td>NaN</td>\n",
       "      <td>NaN</td>\n",
       "    </tr>\n",
       "    <tr>\n",
       "      <th>5.0</th>\n",
       "      <td>NaN</td>\n",
       "      <td>NaN</td>\n",
       "      <td>NaN</td>\n",
       "      <td>NaN</td>\n",
       "      <td>NaN</td>\n",
       "      <td>NaN</td>\n",
       "      <td>NaN</td>\n",
       "      <td>NaN</td>\n",
       "      <td>NaN</td>\n",
       "      <td>NaN</td>\n",
       "      <td>...</td>\n",
       "      <td>NaN</td>\n",
       "      <td>NaN</td>\n",
       "      <td>NaN</td>\n",
       "      <td>NaN</td>\n",
       "      <td>NaN</td>\n",
       "      <td>NaN</td>\n",
       "      <td>NaN</td>\n",
       "      <td>NaN</td>\n",
       "      <td>NaN</td>\n",
       "      <td>NaN</td>\n",
       "    </tr>\n",
       "    <tr>\n",
       "      <th>6.0</th>\n",
       "      <td>NaN</td>\n",
       "      <td>NaN</td>\n",
       "      <td>NaN</td>\n",
       "      <td>NaN</td>\n",
       "      <td>NaN</td>\n",
       "      <td>NaN</td>\n",
       "      <td>NaN</td>\n",
       "      <td>NaN</td>\n",
       "      <td>NaN</td>\n",
       "      <td>NaN</td>\n",
       "      <td>...</td>\n",
       "      <td>NaN</td>\n",
       "      <td>NaN</td>\n",
       "      <td>NaN</td>\n",
       "      <td>NaN</td>\n",
       "      <td>NaN</td>\n",
       "      <td>NaN</td>\n",
       "      <td>NaN</td>\n",
       "      <td>NaN</td>\n",
       "      <td>NaN</td>\n",
       "      <td>NaN</td>\n",
       "    </tr>\n",
       "    <tr>\n",
       "      <th>7.0</th>\n",
       "      <td>NaN</td>\n",
       "      <td>NaN</td>\n",
       "      <td>NaN</td>\n",
       "      <td>NaN</td>\n",
       "      <td>NaN</td>\n",
       "      <td>NaN</td>\n",
       "      <td>NaN</td>\n",
       "      <td>NaN</td>\n",
       "      <td>NaN</td>\n",
       "      <td>NaN</td>\n",
       "      <td>...</td>\n",
       "      <td>NaN</td>\n",
       "      <td>NaN</td>\n",
       "      <td>NaN</td>\n",
       "      <td>NaN</td>\n",
       "      <td>NaN</td>\n",
       "      <td>NaN</td>\n",
       "      <td>NaN</td>\n",
       "      <td>NaN</td>\n",
       "      <td>NaN</td>\n",
       "      <td>2.0</td>\n",
       "    </tr>\n",
       "    <tr>\n",
       "      <th>8.0</th>\n",
       "      <td>NaN</td>\n",
       "      <td>NaN</td>\n",
       "      <td>NaN</td>\n",
       "      <td>NaN</td>\n",
       "      <td>NaN</td>\n",
       "      <td>NaN</td>\n",
       "      <td>NaN</td>\n",
       "      <td>NaN</td>\n",
       "      <td>NaN</td>\n",
       "      <td>NaN</td>\n",
       "      <td>...</td>\n",
       "      <td>NaN</td>\n",
       "      <td>NaN</td>\n",
       "      <td>NaN</td>\n",
       "      <td>NaN</td>\n",
       "      <td>NaN</td>\n",
       "      <td>NaN</td>\n",
       "      <td>NaN</td>\n",
       "      <td>NaN</td>\n",
       "      <td>NaN</td>\n",
       "      <td>NaN</td>\n",
       "    </tr>\n",
       "    <tr>\n",
       "      <th>9.0</th>\n",
       "      <td>NaN</td>\n",
       "      <td>NaN</td>\n",
       "      <td>NaN</td>\n",
       "      <td>NaN</td>\n",
       "      <td>NaN</td>\n",
       "      <td>NaN</td>\n",
       "      <td>NaN</td>\n",
       "      <td>NaN</td>\n",
       "      <td>NaN</td>\n",
       "      <td>NaN</td>\n",
       "      <td>...</td>\n",
       "      <td>NaN</td>\n",
       "      <td>NaN</td>\n",
       "      <td>NaN</td>\n",
       "      <td>NaN</td>\n",
       "      <td>NaN</td>\n",
       "      <td>NaN</td>\n",
       "      <td>NaN</td>\n",
       "      <td>NaN</td>\n",
       "      <td>NaN</td>\n",
       "      <td>NaN</td>\n",
       "    </tr>\n",
       "    <tr>\n",
       "      <th>10.0</th>\n",
       "      <td>NaN</td>\n",
       "      <td>NaN</td>\n",
       "      <td>NaN</td>\n",
       "      <td>NaN</td>\n",
       "      <td>NaN</td>\n",
       "      <td>NaN</td>\n",
       "      <td>NaN</td>\n",
       "      <td>NaN</td>\n",
       "      <td>NaN</td>\n",
       "      <td>NaN</td>\n",
       "      <td>...</td>\n",
       "      <td>NaN</td>\n",
       "      <td>NaN</td>\n",
       "      <td>NaN</td>\n",
       "      <td>NaN</td>\n",
       "      <td>NaN</td>\n",
       "      <td>NaN</td>\n",
       "      <td>NaN</td>\n",
       "      <td>NaN</td>\n",
       "      <td>NaN</td>\n",
       "      <td>NaN</td>\n",
       "    </tr>\n",
       "  </tbody>\n",
       "</table>\n",
       "<p>10 rows × 3159 columns</p>\n",
       "</div>"
      ],
      "text/plain": [
       "title   'burbs, The (1989)  (500) Days of Summer (2009)  *batteries not included (1987)  ...And Justice for All (1979)  10 Things I Hate About You (1999)  10,000 BC (2008)  101 Dalmatians (1996)  101 Dalmatians (One Hundred and One Dalmatians) (1961)  102 Dalmatians (2000)  12 Angry Men (1957)  ...  Zero Dark Thirty (2012)  Zero Effect (1998)  Zodiac (2007)  Zombieland (2009)  Zoolander (2001)  Zulu (1964)  [REC] (2007)  eXistenZ (1999)  xXx (2002)  ¡Three Amigos! (1986)\n",
       "userId                                                                                                                                                                                                                                                                                                  ...                                                                                                                                                                                \n",
       "1.0                    NaN                          NaN                             NaN                            NaN                                NaN               NaN                    NaN                                                NaN                         NaN                  NaN  ...                      NaN                 NaN            NaN                NaN               NaN          NaN           NaN              NaN         NaN                    NaN\n",
       "2.0                    NaN                          NaN                             NaN                            NaN                                NaN               NaN                    NaN                                                NaN                         NaN                  NaN  ...                      NaN                 NaN            NaN                NaN               NaN          NaN           NaN              NaN         NaN                    NaN\n",
       "3.0                    NaN                          NaN                             NaN                            NaN                                NaN               NaN                    NaN                                                NaN                         NaN                  NaN  ...                      NaN                 NaN            NaN                NaN               NaN          NaN           NaN              NaN         NaN                    NaN\n",
       "4.0                    NaN                          NaN                             NaN                            NaN                                NaN               NaN                    NaN                                                NaN                         NaN                  NaN  ...                      NaN                 NaN            NaN                NaN               NaN          NaN           NaN              NaN         NaN                    NaN\n",
       "5.0                    NaN                          NaN                             NaN                            NaN                                NaN               NaN                    NaN                                                NaN                         NaN                  NaN  ...                      NaN                 NaN            NaN                NaN               NaN          NaN           NaN              NaN         NaN                    NaN\n",
       "6.0                    NaN                          NaN                             NaN                            NaN                                NaN               NaN                    NaN                                                NaN                         NaN                  NaN  ...                      NaN                 NaN            NaN                NaN               NaN          NaN           NaN              NaN         NaN                    NaN\n",
       "7.0                    NaN                          NaN                             NaN                            NaN                                NaN               NaN                    NaN                                                NaN                         NaN                  NaN  ...                      NaN                 NaN            NaN                NaN               NaN          NaN           NaN              NaN         NaN                    2.0\n",
       "8.0                    NaN                          NaN                             NaN                            NaN                                NaN               NaN                    NaN                                                NaN                         NaN                  NaN  ...                      NaN                 NaN            NaN                NaN               NaN          NaN           NaN              NaN         NaN                    NaN\n",
       "9.0                    NaN                          NaN                             NaN                            NaN                                NaN               NaN                    NaN                                                NaN                         NaN                  NaN  ...                      NaN                 NaN            NaN                NaN               NaN          NaN           NaN              NaN         NaN                    NaN\n",
       "10.0                   NaN                          NaN                             NaN                            NaN                                NaN               NaN                    NaN                                                NaN                         NaN                  NaN  ...                      NaN                 NaN            NaN                NaN               NaN          NaN           NaN              NaN         NaN                    NaN\n",
       "\n",
       "[10 rows x 3159 columns]"
      ]
     },
     "execution_count": 9,
     "metadata": {},
     "output_type": "execute_result"
    }
   ],
   "source": [
    "user_movie_df.head(10)"
   ]
  },
  {
   "cell_type": "markdown",
   "metadata": {
    "papermill": {
     "duration": 0.033772,
     "end_time": "2022-04-22T18:54:27.382394",
     "exception": false,
     "start_time": "2022-04-22T18:54:27.348622",
     "status": "completed"
    },
    "tags": []
   },
   "source": [
    "#  Item-Based Movie Suggestions\n",
    "Now that we have the user-movie matrix, we can calculate the correlations. In user_movie_df the columns were the movie name, then if we fetch this column the user id-movie scores will come. This will be assigned to a variable named movie name."
   ]
  },
  {
   "cell_type": "code",
   "execution_count": 10,
   "metadata": {
    "execution": {
     "iopub.execute_input": "2022-04-22T18:54:27.449981Z",
     "iopub.status.busy": "2022-04-22T18:54:27.449400Z",
     "iopub.status.idle": "2022-04-22T18:54:27.453829Z",
     "shell.execute_reply": "2022-04-22T18:54:27.452950Z"
    },
    "papermill": {
     "duration": 0.041038,
     "end_time": "2022-04-22T18:54:27.456018",
     "exception": false,
     "start_time": "2022-04-22T18:54:27.414980",
     "status": "completed"
    },
    "tags": []
   },
   "outputs": [],
   "source": [
    "movie_name = \"Finding Nemo (2003)\"\n",
    "movie_name = user_movie_df[movie_name]"
   ]
  },
  {
   "cell_type": "code",
   "execution_count": 11,
   "metadata": {
    "execution": {
     "iopub.execute_input": "2022-04-22T18:54:27.522074Z",
     "iopub.status.busy": "2022-04-22T18:54:27.520891Z",
     "iopub.status.idle": "2022-04-22T18:54:30.229300Z",
     "shell.execute_reply": "2022-04-22T18:54:30.228312Z"
    },
    "papermill": {
     "duration": 2.742836,
     "end_time": "2022-04-22T18:54:30.231629",
     "exception": false,
     "start_time": "2022-04-22T18:54:27.488793",
     "status": "completed"
    },
    "tags": []
   },
   "outputs": [
    {
     "data": {
      "text/plain": [
       "title\n",
       "Finding Nemo (2003)        1.000000\n",
       "Monsters, Inc. (2001)      0.563173\n",
       "Bug's Life, A (1998)       0.522080\n",
       "Toy Story (1995)           0.504607\n",
       "Toy Story 2 (1999)         0.489461\n",
       "Incredibles, The (2004)    0.470720\n",
       "Cars (2006)                0.464074\n",
       "Lion King, The (1994)      0.453159\n",
       "Toy Story 3 (2010)         0.445990\n",
       "Ratatouille (2007)         0.443615\n",
       "dtype: float64"
      ]
     },
     "execution_count": 11,
     "metadata": {},
     "output_type": "execute_result"
    }
   ],
   "source": [
    "user_movie_df.corrwith(movie_name).sort_values(ascending=False).head(10)"
   ]
  },
  {
   "cell_type": "code",
   "execution_count": 12,
   "metadata": {
    "execution": {
     "iopub.execute_input": "2022-04-22T18:54:30.295238Z",
     "iopub.status.busy": "2022-04-22T18:54:30.294933Z",
     "iopub.status.idle": "2022-04-22T18:54:32.985529Z",
     "shell.execute_reply": "2022-04-22T18:54:32.984593Z"
    },
    "papermill": {
     "duration": 2.725039,
     "end_time": "2022-04-22T18:54:32.987699",
     "exception": false,
     "start_time": "2022-04-22T18:54:30.262660",
     "status": "completed"
    },
    "tags": []
   },
   "outputs": [
    {
     "data": {
      "text/plain": [
       "title\n",
       "Monsters, Inc. (2001)      0.563173\n",
       "Bug's Life, A (1998)       0.522080\n",
       "Toy Story (1995)           0.504607\n",
       "Toy Story 2 (1999)         0.489461\n",
       "Incredibles, The (2004)    0.470720\n",
       "dtype: float64"
      ]
     },
     "execution_count": 12,
     "metadata": {},
     "output_type": "execute_result"
    }
   ],
   "source": [
    "user_movie_df.corrwith(movie_name).sort_values(ascending=False)[1:6]"
   ]
  },
  {
   "cell_type": "code",
   "execution_count": null,
   "metadata": {
    "papermill": {
     "duration": 0.030977,
     "end_time": "2022-04-22T18:54:33.050722",
     "exception": false,
     "start_time": "2022-04-22T18:54:33.019745",
     "status": "completed"
    },
    "tags": []
   },
   "outputs": [],
   "source": []
  },
  {
   "cell_type": "markdown",
   "metadata": {
    "papermill": {
     "duration": 0.03192,
     "end_time": "2022-04-22T18:54:33.116449",
     "exception": false,
     "start_time": "2022-04-22T18:54:33.084529",
     "status": "completed"
    },
    "tags": []
   },
   "source": [
    "# Importing the necessary libraries and load data"
   ]
  },
  {
   "cell_type": "code",
   "execution_count": 13,
   "metadata": {
    "execution": {
     "iopub.execute_input": "2022-04-22T18:54:33.181242Z",
     "iopub.status.busy": "2022-04-22T18:54:33.180698Z",
     "iopub.status.idle": "2022-04-22T18:54:33.265201Z",
     "shell.execute_reply": "2022-04-22T18:54:33.263742Z"
    },
    "papermill": {
     "duration": 0.12037,
     "end_time": "2022-04-22T18:54:33.268549",
     "exception": false,
     "start_time": "2022-04-22T18:54:33.148179",
     "status": "completed"
    },
    "tags": []
   },
   "outputs": [
    {
     "name": "stdout",
     "output_type": "stream",
     "text": [
      "   user_id  item_id  rating  timestamp\n",
      "0      196      242       3  881250949\n",
      "1      186      302       3  891717742\n",
      "2       22      377       1  878887116\n",
      "3      244       51       2  880606923\n",
      "4      166      346       1  886397596\n"
     ]
    }
   ],
   "source": [
    "import numpy as np\n",
    "import pandas as pd\n",
    "df1 = pd.read_csv('../input/movielens-100k-dataset/ml-100k/u.data',sep='\\t',names=['user_id','item_id','rating','timestamp'])\n",
    "df2 = pd.read_csv(\"../input/movielens-100k-dataset/ml-100k/u.item\", sep=\"|\", encoding=\"iso-8859-1\",names=[\"item_id\",\"item_name\",\"date\",\"unknown1\"\n",
    "\"website\",\"rat1\",\"rat2\",\"rat3\",\"rat4\",\"rat5\",\"rat6\",\"rat7\",\"rat8\",\"rat9\",\"rat10\",\"rat11\",\"rat12\",\"rat13\",\n",
    "\"rat14\",\"rat15\",\"rat16\",\"rat17\",\"rat18\",\"rat19\",\"rat20\"])\n",
    "print(df1.head())"
   ]
  },
  {
   "cell_type": "markdown",
   "metadata": {
    "papermill": {
     "duration": 0.035945,
     "end_time": "2022-04-22T18:54:33.339170",
     "exception": false,
     "start_time": "2022-04-22T18:54:33.303225",
     "status": "completed"
    },
    "tags": []
   },
   "source": [
    "# df1 contains the user id , the movie id and the corresponding ratings\n",
    "# df2 contains the movie name and it’s corresponding item_id"
   ]
  },
  {
   "cell_type": "code",
   "execution_count": 14,
   "metadata": {
    "execution": {
     "iopub.execute_input": "2022-04-22T18:54:33.405296Z",
     "iopub.status.busy": "2022-04-22T18:54:33.404770Z",
     "iopub.status.idle": "2022-04-22T18:54:33.413477Z",
     "shell.execute_reply": "2022-04-22T18:54:33.412579Z"
    },
    "papermill": {
     "duration": 0.044011,
     "end_time": "2022-04-22T18:54:33.415381",
     "exception": false,
     "start_time": "2022-04-22T18:54:33.371370",
     "status": "completed"
    },
    "tags": []
   },
   "outputs": [
    {
     "data": {
      "text/html": [
       "<div>\n",
       "<style scoped>\n",
       "    .dataframe tbody tr th:only-of-type {\n",
       "        vertical-align: middle;\n",
       "    }\n",
       "\n",
       "    .dataframe tbody tr th {\n",
       "        vertical-align: top;\n",
       "    }\n",
       "\n",
       "    .dataframe thead th {\n",
       "        text-align: right;\n",
       "    }\n",
       "</style>\n",
       "<table border=\"1\" class=\"dataframe\">\n",
       "  <thead>\n",
       "    <tr style=\"text-align: right;\">\n",
       "      <th></th>\n",
       "      <th>item_id</th>\n",
       "      <th>item_name</th>\n",
       "    </tr>\n",
       "  </thead>\n",
       "  <tbody>\n",
       "    <tr>\n",
       "      <th>0</th>\n",
       "      <td>1</td>\n",
       "      <td>Toy Story (1995)</td>\n",
       "    </tr>\n",
       "    <tr>\n",
       "      <th>1</th>\n",
       "      <td>2</td>\n",
       "      <td>GoldenEye (1995)</td>\n",
       "    </tr>\n",
       "    <tr>\n",
       "      <th>2</th>\n",
       "      <td>3</td>\n",
       "      <td>Four Rooms (1995)</td>\n",
       "    </tr>\n",
       "    <tr>\n",
       "      <th>3</th>\n",
       "      <td>4</td>\n",
       "      <td>Get Shorty (1995)</td>\n",
       "    </tr>\n",
       "    <tr>\n",
       "      <th>4</th>\n",
       "      <td>5</td>\n",
       "      <td>Copycat (1995)</td>\n",
       "    </tr>\n",
       "  </tbody>\n",
       "</table>\n",
       "</div>"
      ],
      "text/plain": [
       "   item_id          item_name\n",
       "0        1   Toy Story (1995)\n",
       "1        2   GoldenEye (1995)\n",
       "2        3  Four Rooms (1995)\n",
       "3        4  Get Shorty (1995)\n",
       "4        5     Copycat (1995)"
      ]
     },
     "execution_count": 14,
     "metadata": {},
     "output_type": "execute_result"
    }
   ],
   "source": [
    "df2 = df2.iloc[:,0:2]\n",
    "df2.head()"
   ]
  },
  {
   "cell_type": "markdown",
   "metadata": {
    "papermill": {
     "duration": 0.032309,
     "end_time": "2022-04-22T18:54:33.480680",
     "exception": false,
     "start_time": "2022-04-22T18:54:33.448371",
     "status": "completed"
    },
    "tags": []
   },
   "source": [
    "# Merge dataframes"
   ]
  },
  {
   "cell_type": "code",
   "execution_count": 15,
   "metadata": {
    "execution": {
     "iopub.execute_input": "2022-04-22T18:54:33.548198Z",
     "iopub.status.busy": "2022-04-22T18:54:33.547657Z",
     "iopub.status.idle": "2022-04-22T18:54:33.573623Z",
     "shell.execute_reply": "2022-04-22T18:54:33.572998Z"
    },
    "papermill": {
     "duration": 0.062371,
     "end_time": "2022-04-22T18:54:33.575612",
     "exception": false,
     "start_time": "2022-04-22T18:54:33.513241",
     "status": "completed"
    },
    "tags": []
   },
   "outputs": [
    {
     "data": {
      "text/html": [
       "<div>\n",
       "<style scoped>\n",
       "    .dataframe tbody tr th:only-of-type {\n",
       "        vertical-align: middle;\n",
       "    }\n",
       "\n",
       "    .dataframe tbody tr th {\n",
       "        vertical-align: top;\n",
       "    }\n",
       "\n",
       "    .dataframe thead th {\n",
       "        text-align: right;\n",
       "    }\n",
       "</style>\n",
       "<table border=\"1\" class=\"dataframe\">\n",
       "  <thead>\n",
       "    <tr style=\"text-align: right;\">\n",
       "      <th></th>\n",
       "      <th>user_id</th>\n",
       "      <th>item_id</th>\n",
       "      <th>rating</th>\n",
       "      <th>item_name</th>\n",
       "    </tr>\n",
       "  </thead>\n",
       "  <tbody>\n",
       "    <tr>\n",
       "      <th>0</th>\n",
       "      <td>196</td>\n",
       "      <td>242</td>\n",
       "      <td>3</td>\n",
       "      <td>Kolya (1996)</td>\n",
       "    </tr>\n",
       "    <tr>\n",
       "      <th>1</th>\n",
       "      <td>63</td>\n",
       "      <td>242</td>\n",
       "      <td>3</td>\n",
       "      <td>Kolya (1996)</td>\n",
       "    </tr>\n",
       "    <tr>\n",
       "      <th>2</th>\n",
       "      <td>226</td>\n",
       "      <td>242</td>\n",
       "      <td>5</td>\n",
       "      <td>Kolya (1996)</td>\n",
       "    </tr>\n",
       "    <tr>\n",
       "      <th>3</th>\n",
       "      <td>154</td>\n",
       "      <td>242</td>\n",
       "      <td>3</td>\n",
       "      <td>Kolya (1996)</td>\n",
       "    </tr>\n",
       "    <tr>\n",
       "      <th>4</th>\n",
       "      <td>306</td>\n",
       "      <td>242</td>\n",
       "      <td>5</td>\n",
       "      <td>Kolya (1996)</td>\n",
       "    </tr>\n",
       "  </tbody>\n",
       "</table>\n",
       "</div>"
      ],
      "text/plain": [
       "   user_id  item_id  rating     item_name\n",
       "0      196      242       3  Kolya (1996)\n",
       "1       63      242       3  Kolya (1996)\n",
       "2      226      242       5  Kolya (1996)\n",
       "3      154      242       3  Kolya (1996)\n",
       "4      306      242       5  Kolya (1996)"
      ]
     },
     "execution_count": 15,
     "metadata": {},
     "output_type": "execute_result"
    }
   ],
   "source": [
    "data = df1.merge(df2,on=\"item_id\")\n",
    "data.drop(['timestamp'],inplace=True,axis=1)\n",
    "data.head()"
   ]
  },
  {
   "cell_type": "markdown",
   "metadata": {
    "papermill": {
     "duration": 0.033386,
     "end_time": "2022-04-22T18:54:33.643378",
     "exception": false,
     "start_time": "2022-04-22T18:54:33.609992",
     "status": "completed"
    },
    "tags": []
   },
   "source": [
    "# Pivot table\n",
    " create a table with each movie representing a column and each user representing a row"
   ]
  },
  {
   "cell_type": "code",
   "execution_count": 16,
   "metadata": {
    "execution": {
     "iopub.execute_input": "2022-04-22T18:54:33.712464Z",
     "iopub.status.busy": "2022-04-22T18:54:33.711934Z",
     "iopub.status.idle": "2022-04-22T18:54:33.843803Z",
     "shell.execute_reply": "2022-04-22T18:54:33.843144Z"
    },
    "papermill": {
     "duration": 0.168714,
     "end_time": "2022-04-22T18:54:33.845585",
     "exception": false,
     "start_time": "2022-04-22T18:54:33.676871",
     "status": "completed"
    },
    "tags": []
   },
   "outputs": [
    {
     "data": {
      "text/html": [
       "<div>\n",
       "<style scoped>\n",
       "    .dataframe tbody tr th:only-of-type {\n",
       "        vertical-align: middle;\n",
       "    }\n",
       "\n",
       "    .dataframe tbody tr th {\n",
       "        vertical-align: top;\n",
       "    }\n",
       "\n",
       "    .dataframe thead th {\n",
       "        text-align: right;\n",
       "    }\n",
       "</style>\n",
       "<table border=\"1\" class=\"dataframe\">\n",
       "  <thead>\n",
       "    <tr style=\"text-align: right;\">\n",
       "      <th>item_name</th>\n",
       "      <th>'Til There Was You (1997)</th>\n",
       "      <th>1-900 (1994)</th>\n",
       "      <th>101 Dalmatians (1996)</th>\n",
       "      <th>12 Angry Men (1957)</th>\n",
       "      <th>187 (1997)</th>\n",
       "      <th>2 Days in the Valley (1996)</th>\n",
       "      <th>20,000 Leagues Under the Sea (1954)</th>\n",
       "      <th>2001: A Space Odyssey (1968)</th>\n",
       "      <th>3 Ninjas: High Noon At Mega Mountain (1998)</th>\n",
       "      <th>39 Steps, The (1935)</th>\n",
       "      <th>...</th>\n",
       "      <th>Yankee Zulu (1994)</th>\n",
       "      <th>Year of the Horse (1997)</th>\n",
       "      <th>You So Crazy (1994)</th>\n",
       "      <th>Young Frankenstein (1974)</th>\n",
       "      <th>Young Guns (1988)</th>\n",
       "      <th>Young Guns II (1990)</th>\n",
       "      <th>Young Poisoner's Handbook, The (1995)</th>\n",
       "      <th>Zeus and Roxanne (1997)</th>\n",
       "      <th>unknown</th>\n",
       "      <th>Á köldum klaka (Cold Fever) (1994)</th>\n",
       "    </tr>\n",
       "    <tr>\n",
       "      <th>user_id</th>\n",
       "      <th></th>\n",
       "      <th></th>\n",
       "      <th></th>\n",
       "      <th></th>\n",
       "      <th></th>\n",
       "      <th></th>\n",
       "      <th></th>\n",
       "      <th></th>\n",
       "      <th></th>\n",
       "      <th></th>\n",
       "      <th></th>\n",
       "      <th></th>\n",
       "      <th></th>\n",
       "      <th></th>\n",
       "      <th></th>\n",
       "      <th></th>\n",
       "      <th></th>\n",
       "      <th></th>\n",
       "      <th></th>\n",
       "      <th></th>\n",
       "      <th></th>\n",
       "    </tr>\n",
       "  </thead>\n",
       "  <tbody>\n",
       "    <tr>\n",
       "      <th>1</th>\n",
       "      <td>NaN</td>\n",
       "      <td>NaN</td>\n",
       "      <td>2.0</td>\n",
       "      <td>5.0</td>\n",
       "      <td>NaN</td>\n",
       "      <td>NaN</td>\n",
       "      <td>3.0</td>\n",
       "      <td>4.0</td>\n",
       "      <td>NaN</td>\n",
       "      <td>NaN</td>\n",
       "      <td>...</td>\n",
       "      <td>NaN</td>\n",
       "      <td>NaN</td>\n",
       "      <td>NaN</td>\n",
       "      <td>5.0</td>\n",
       "      <td>3.0</td>\n",
       "      <td>NaN</td>\n",
       "      <td>NaN</td>\n",
       "      <td>NaN</td>\n",
       "      <td>4.0</td>\n",
       "      <td>NaN</td>\n",
       "    </tr>\n",
       "    <tr>\n",
       "      <th>2</th>\n",
       "      <td>NaN</td>\n",
       "      <td>NaN</td>\n",
       "      <td>NaN</td>\n",
       "      <td>NaN</td>\n",
       "      <td>NaN</td>\n",
       "      <td>NaN</td>\n",
       "      <td>NaN</td>\n",
       "      <td>NaN</td>\n",
       "      <td>1.0</td>\n",
       "      <td>NaN</td>\n",
       "      <td>...</td>\n",
       "      <td>NaN</td>\n",
       "      <td>NaN</td>\n",
       "      <td>NaN</td>\n",
       "      <td>NaN</td>\n",
       "      <td>NaN</td>\n",
       "      <td>NaN</td>\n",
       "      <td>NaN</td>\n",
       "      <td>NaN</td>\n",
       "      <td>NaN</td>\n",
       "      <td>NaN</td>\n",
       "    </tr>\n",
       "    <tr>\n",
       "      <th>3</th>\n",
       "      <td>NaN</td>\n",
       "      <td>NaN</td>\n",
       "      <td>NaN</td>\n",
       "      <td>NaN</td>\n",
       "      <td>2.0</td>\n",
       "      <td>NaN</td>\n",
       "      <td>NaN</td>\n",
       "      <td>NaN</td>\n",
       "      <td>NaN</td>\n",
       "      <td>NaN</td>\n",
       "      <td>...</td>\n",
       "      <td>NaN</td>\n",
       "      <td>NaN</td>\n",
       "      <td>NaN</td>\n",
       "      <td>NaN</td>\n",
       "      <td>NaN</td>\n",
       "      <td>NaN</td>\n",
       "      <td>NaN</td>\n",
       "      <td>NaN</td>\n",
       "      <td>NaN</td>\n",
       "      <td>NaN</td>\n",
       "    </tr>\n",
       "    <tr>\n",
       "      <th>4</th>\n",
       "      <td>NaN</td>\n",
       "      <td>NaN</td>\n",
       "      <td>NaN</td>\n",
       "      <td>NaN</td>\n",
       "      <td>NaN</td>\n",
       "      <td>NaN</td>\n",
       "      <td>NaN</td>\n",
       "      <td>NaN</td>\n",
       "      <td>NaN</td>\n",
       "      <td>NaN</td>\n",
       "      <td>...</td>\n",
       "      <td>NaN</td>\n",
       "      <td>NaN</td>\n",
       "      <td>NaN</td>\n",
       "      <td>NaN</td>\n",
       "      <td>NaN</td>\n",
       "      <td>NaN</td>\n",
       "      <td>NaN</td>\n",
       "      <td>NaN</td>\n",
       "      <td>NaN</td>\n",
       "      <td>NaN</td>\n",
       "    </tr>\n",
       "    <tr>\n",
       "      <th>5</th>\n",
       "      <td>NaN</td>\n",
       "      <td>NaN</td>\n",
       "      <td>2.0</td>\n",
       "      <td>NaN</td>\n",
       "      <td>NaN</td>\n",
       "      <td>NaN</td>\n",
       "      <td>NaN</td>\n",
       "      <td>4.0</td>\n",
       "      <td>NaN</td>\n",
       "      <td>NaN</td>\n",
       "      <td>...</td>\n",
       "      <td>NaN</td>\n",
       "      <td>NaN</td>\n",
       "      <td>NaN</td>\n",
       "      <td>4.0</td>\n",
       "      <td>NaN</td>\n",
       "      <td>NaN</td>\n",
       "      <td>NaN</td>\n",
       "      <td>NaN</td>\n",
       "      <td>4.0</td>\n",
       "      <td>NaN</td>\n",
       "    </tr>\n",
       "  </tbody>\n",
       "</table>\n",
       "<p>5 rows × 1664 columns</p>\n",
       "</div>"
      ],
      "text/plain": [
       "item_name  'Til There Was You (1997)  1-900 (1994)  101 Dalmatians (1996)  12 Angry Men (1957)  187 (1997)  2 Days in the Valley (1996)  20,000 Leagues Under the Sea (1954)  2001: A Space Odyssey (1968)  3 Ninjas: High Noon At Mega Mountain (1998)  39 Steps, The (1935)  ...  Yankee Zulu (1994)  Year of the Horse (1997)  You So Crazy (1994)  Young Frankenstein (1974)  Young Guns (1988)  Young Guns II (1990)  Young Poisoner's Handbook, The (1995)  Zeus and Roxanne (1997)  unknown  \\\n",
       "user_id                                                                                                                                                                                                                                                                        ...                                                                                                                                                                                                                   \n",
       "1                                NaN           NaN                    2.0                  5.0         NaN                          NaN                                  3.0                           4.0                                          NaN                   NaN  ...                 NaN                       NaN                  NaN                        5.0                3.0                   NaN                                    NaN                      NaN      4.0   \n",
       "2                                NaN           NaN                    NaN                  NaN         NaN                          NaN                                  NaN                           NaN                                          1.0                   NaN  ...                 NaN                       NaN                  NaN                        NaN                NaN                   NaN                                    NaN                      NaN      NaN   \n",
       "3                                NaN           NaN                    NaN                  NaN         2.0                          NaN                                  NaN                           NaN                                          NaN                   NaN  ...                 NaN                       NaN                  NaN                        NaN                NaN                   NaN                                    NaN                      NaN      NaN   \n",
       "4                                NaN           NaN                    NaN                  NaN         NaN                          NaN                                  NaN                           NaN                                          NaN                   NaN  ...                 NaN                       NaN                  NaN                        NaN                NaN                   NaN                                    NaN                      NaN      NaN   \n",
       "5                                NaN           NaN                    2.0                  NaN         NaN                          NaN                                  NaN                           4.0                                          NaN                   NaN  ...                 NaN                       NaN                  NaN                        4.0                NaN                   NaN                                    NaN                      NaN      4.0   \n",
       "\n",
       "item_name  Á köldum klaka (Cold Fever) (1994)  \n",
       "user_id                                        \n",
       "1                                         NaN  \n",
       "2                                         NaN  \n",
       "3                                         NaN  \n",
       "4                                         NaN  \n",
       "5                                         NaN  \n",
       "\n",
       "[5 rows x 1664 columns]"
      ]
     },
     "execution_count": 16,
     "metadata": {},
     "output_type": "execute_result"
    }
   ],
   "source": [
    "data_table = pd.pivot_table(data,values='rating',columns='item_name',index='user_id')\n",
    "data_table.head()"
   ]
  },
  {
   "cell_type": "markdown",
   "metadata": {
    "papermill": {
     "duration": 0.03244,
     "end_time": "2022-04-22T18:54:33.910522",
     "exception": false,
     "start_time": "2022-04-22T18:54:33.878082",
     "status": "completed"
    },
    "tags": []
   },
   "source": [
    "# Recommending"
   ]
  },
  {
   "cell_type": "code",
   "execution_count": 17,
   "metadata": {
    "execution": {
     "iopub.execute_input": "2022-04-22T18:54:33.977848Z",
     "iopub.status.busy": "2022-04-22T18:54:33.977413Z",
     "iopub.status.idle": "2022-04-22T18:54:36.374716Z",
     "shell.execute_reply": "2022-04-22T18:54:36.373883Z"
    },
    "papermill": {
     "duration": 2.433712,
     "end_time": "2022-04-22T18:54:36.376843",
     "exception": false,
     "start_time": "2022-04-22T18:54:33.943131",
     "status": "completed"
    },
    "tags": []
   },
   "outputs": [
    {
     "name": "stdout",
     "output_type": "stream",
     "text": [
      "here are a list of 20 movies to recommend to a user who has liked 'Jurassic Park (1993)'\n",
      "item_name\n",
      "Killer (Bulletproof Heart) (1994)                           1.0\n",
      "Jurassic Park (1993)                                        1.0\n",
      "Safe Passage (1994)                                         1.0\n",
      "Roseanna's Grave (For Roseanna) (1997)                      1.0\n",
      "Albino Alligator (1996)                                     1.0\n",
      "Outlaw, The (1943)                                          1.0\n",
      "Nico Icon (1995)                                            1.0\n",
      "Mr. Jones (1993)                                            1.0\n",
      "Midnight Dancers (Sibak) (1994)                             1.0\n",
      "Metisse (Café au Lait) (1993)                               1.0\n",
      "Love Serenade (1996)                                        1.0\n",
      "King of the Hill (1993)                                     1.0\n",
      "Jack and Sarah (1995)                                       1.0\n",
      "Second Jungle Book: Mowgli & Baloo, The (1997)              1.0\n",
      "Hurricane Streets (1998)                                    1.0\n",
      "Golden Earrings (1947)                                      1.0\n",
      "Germinal (1993)                                             1.0\n",
      "Gabbeh (1996)                                               1.0\n",
      "Frisk (1995)                                                1.0\n",
      "Flower of My Secret, The (Flor de mi secreto, La) (1995)    1.0\n",
      "Name: Jurassic Park (1993), dtype: float64\n"
     ]
    }
   ],
   "source": [
    "print(\"here are a list of 20 movies to recommend to a user who has liked 'Jurassic Park (1993)'\")\n",
    "print(data_table.corr()['Jurassic Park (1993)'].sort_values(ascending=False).iloc[:20])"
   ]
  },
  {
   "cell_type": "code",
   "execution_count": null,
   "metadata": {
    "papermill": {
     "duration": 0.034396,
     "end_time": "2022-04-22T18:54:36.444672",
     "exception": false,
     "start_time": "2022-04-22T18:54:36.410276",
     "status": "completed"
    },
    "tags": []
   },
   "outputs": [],
   "source": []
  },
  {
   "cell_type": "code",
   "execution_count": 18,
   "metadata": {
    "execution": {
     "iopub.execute_input": "2022-04-22T18:54:36.515104Z",
     "iopub.status.busy": "2022-04-22T18:54:36.514152Z",
     "iopub.status.idle": "2022-04-22T18:54:38.554789Z",
     "shell.execute_reply": "2022-04-22T18:54:38.553589Z"
    },
    "papermill": {
     "duration": 2.078369,
     "end_time": "2022-04-22T18:54:38.557108",
     "exception": false,
     "start_time": "2022-04-22T18:54:36.478739",
     "status": "completed"
    },
    "tags": []
   },
   "outputs": [
    {
     "data": {
      "text/html": [
       "<div>\n",
       "<style scoped>\n",
       "    .dataframe tbody tr th:only-of-type {\n",
       "        vertical-align: middle;\n",
       "    }\n",
       "\n",
       "    .dataframe tbody tr th {\n",
       "        vertical-align: top;\n",
       "    }\n",
       "\n",
       "    .dataframe thead th {\n",
       "        text-align: right;\n",
       "    }\n",
       "</style>\n",
       "<table border=\"1\" class=\"dataframe\">\n",
       "  <thead>\n",
       "    <tr style=\"text-align: right;\">\n",
       "      <th></th>\n",
       "      <th>user_id</th>\n",
       "      <th>item_id</th>\n",
       "      <th>rating</th>\n",
       "      <th>timestamp</th>\n",
       "      <th>movie title</th>\n",
       "    </tr>\n",
       "  </thead>\n",
       "  <tbody>\n",
       "    <tr>\n",
       "      <th>0</th>\n",
       "      <td>196</td>\n",
       "      <td>242</td>\n",
       "      <td>3</td>\n",
       "      <td>881250949</td>\n",
       "      <td>Kolya (1996)</td>\n",
       "    </tr>\n",
       "    <tr>\n",
       "      <th>1</th>\n",
       "      <td>63</td>\n",
       "      <td>242</td>\n",
       "      <td>3</td>\n",
       "      <td>875747190</td>\n",
       "      <td>Kolya (1996)</td>\n",
       "    </tr>\n",
       "    <tr>\n",
       "      <th>2</th>\n",
       "      <td>226</td>\n",
       "      <td>242</td>\n",
       "      <td>5</td>\n",
       "      <td>883888671</td>\n",
       "      <td>Kolya (1996)</td>\n",
       "    </tr>\n",
       "    <tr>\n",
       "      <th>3</th>\n",
       "      <td>154</td>\n",
       "      <td>242</td>\n",
       "      <td>3</td>\n",
       "      <td>879138235</td>\n",
       "      <td>Kolya (1996)</td>\n",
       "    </tr>\n",
       "    <tr>\n",
       "      <th>4</th>\n",
       "      <td>306</td>\n",
       "      <td>242</td>\n",
       "      <td>5</td>\n",
       "      <td>876503793</td>\n",
       "      <td>Kolya (1996)</td>\n",
       "    </tr>\n",
       "  </tbody>\n",
       "</table>\n",
       "</div>"
      ],
      "text/plain": [
       "   user_id  item_id  rating  timestamp   movie title\n",
       "0      196      242       3  881250949  Kolya (1996)\n",
       "1       63      242       3  875747190  Kolya (1996)\n",
       "2      226      242       5  883888671  Kolya (1996)\n",
       "3      154      242       3  879138235  Kolya (1996)\n",
       "4      306      242       5  876503793  Kolya (1996)"
      ]
     },
     "execution_count": 18,
     "metadata": {},
     "output_type": "execute_result"
    }
   ],
   "source": [
    "import pandas as pd\n",
    "import numpy as np\n",
    "import sklearn\n",
    "from sklearn.decomposition import TruncatedSVD\n",
    "\n",
    "\n",
    "columns = ['user_id', 'item_id', 'rating', 'timestamp']\n",
    "df = pd.read_csv('../input/movielens-100k-dataset/ml-100k/u.data', sep='\\t', names=columns)\n",
    "\n",
    "\n",
    "columns = ['item_id', 'movie title', 'release date', 'video release date', 'IMDb URL', 'unknown', 'Action', 'Adventure',\n",
    "          'Animation', 'Childrens', 'Comedy', 'Crime', 'Documentary', 'Drama', 'Fantasy', 'Film-Noir', 'Horror',\n",
    "          'Musical', 'Mystery', 'Romance', 'Sci-Fi', 'Thriller', 'War', 'Western']\n",
    "\n",
    "movies = pd.read_csv('../input/movielens-100k-dataset/ml-100k/u.item', sep='|', names=columns, encoding='latin-1')\n",
    "movie_names = movies[['item_id', 'movie title']]\n",
    "\n",
    "combined_movies_data = pd.merge(df, movie_names, on='item_id')\n",
    "combined_movies_data.head()"
   ]
  },
  {
   "cell_type": "markdown",
   "metadata": {
    "papermill": {
     "duration": 0.03385,
     "end_time": "2022-04-22T18:54:38.626472",
     "exception": false,
     "start_time": "2022-04-22T18:54:38.592622",
     "status": "completed"
    },
    "tags": []
   },
   "source": [
    "# create the user-item table by pivoting the data"
   ]
  },
  {
   "cell_type": "code",
   "execution_count": 19,
   "metadata": {
    "execution": {
     "iopub.execute_input": "2022-04-22T18:54:38.698535Z",
     "iopub.status.busy": "2022-04-22T18:54:38.698011Z",
     "iopub.status.idle": "2022-04-22T18:54:39.117948Z",
     "shell.execute_reply": "2022-04-22T18:54:39.117128Z"
    },
    "papermill": {
     "duration": 0.457761,
     "end_time": "2022-04-22T18:54:39.119951",
     "exception": false,
     "start_time": "2022-04-22T18:54:38.662190",
     "status": "completed"
    },
    "tags": []
   },
   "outputs": [
    {
     "data": {
      "text/html": [
       "<div>\n",
       "<style scoped>\n",
       "    .dataframe tbody tr th:only-of-type {\n",
       "        vertical-align: middle;\n",
       "    }\n",
       "\n",
       "    .dataframe tbody tr th {\n",
       "        vertical-align: top;\n",
       "    }\n",
       "\n",
       "    .dataframe thead th {\n",
       "        text-align: right;\n",
       "    }\n",
       "</style>\n",
       "<table border=\"1\" class=\"dataframe\">\n",
       "  <thead>\n",
       "    <tr style=\"text-align: right;\">\n",
       "      <th>movie title</th>\n",
       "      <th>'Til There Was You (1997)</th>\n",
       "      <th>1-900 (1994)</th>\n",
       "      <th>101 Dalmatians (1996)</th>\n",
       "      <th>12 Angry Men (1957)</th>\n",
       "      <th>187 (1997)</th>\n",
       "      <th>2 Days in the Valley (1996)</th>\n",
       "      <th>20,000 Leagues Under the Sea (1954)</th>\n",
       "      <th>2001: A Space Odyssey (1968)</th>\n",
       "      <th>3 Ninjas: High Noon At Mega Mountain (1998)</th>\n",
       "      <th>39 Steps, The (1935)</th>\n",
       "      <th>...</th>\n",
       "      <th>Yankee Zulu (1994)</th>\n",
       "      <th>Year of the Horse (1997)</th>\n",
       "      <th>You So Crazy (1994)</th>\n",
       "      <th>Young Frankenstein (1974)</th>\n",
       "      <th>Young Guns (1988)</th>\n",
       "      <th>Young Guns II (1990)</th>\n",
       "      <th>Young Poisoner's Handbook, The (1995)</th>\n",
       "      <th>Zeus and Roxanne (1997)</th>\n",
       "      <th>unknown</th>\n",
       "      <th>Á köldum klaka (Cold Fever) (1994)</th>\n",
       "    </tr>\n",
       "    <tr>\n",
       "      <th>user_id</th>\n",
       "      <th></th>\n",
       "      <th></th>\n",
       "      <th></th>\n",
       "      <th></th>\n",
       "      <th></th>\n",
       "      <th></th>\n",
       "      <th></th>\n",
       "      <th></th>\n",
       "      <th></th>\n",
       "      <th></th>\n",
       "      <th></th>\n",
       "      <th></th>\n",
       "      <th></th>\n",
       "      <th></th>\n",
       "      <th></th>\n",
       "      <th></th>\n",
       "      <th></th>\n",
       "      <th></th>\n",
       "      <th></th>\n",
       "      <th></th>\n",
       "      <th></th>\n",
       "    </tr>\n",
       "  </thead>\n",
       "  <tbody>\n",
       "    <tr>\n",
       "      <th>1</th>\n",
       "      <td>0</td>\n",
       "      <td>0</td>\n",
       "      <td>2</td>\n",
       "      <td>5</td>\n",
       "      <td>0</td>\n",
       "      <td>0</td>\n",
       "      <td>3</td>\n",
       "      <td>4</td>\n",
       "      <td>0</td>\n",
       "      <td>0</td>\n",
       "      <td>...</td>\n",
       "      <td>0</td>\n",
       "      <td>0</td>\n",
       "      <td>0</td>\n",
       "      <td>5</td>\n",
       "      <td>3</td>\n",
       "      <td>0</td>\n",
       "      <td>0</td>\n",
       "      <td>0</td>\n",
       "      <td>4</td>\n",
       "      <td>0</td>\n",
       "    </tr>\n",
       "    <tr>\n",
       "      <th>2</th>\n",
       "      <td>0</td>\n",
       "      <td>0</td>\n",
       "      <td>0</td>\n",
       "      <td>0</td>\n",
       "      <td>0</td>\n",
       "      <td>0</td>\n",
       "      <td>0</td>\n",
       "      <td>0</td>\n",
       "      <td>1</td>\n",
       "      <td>0</td>\n",
       "      <td>...</td>\n",
       "      <td>0</td>\n",
       "      <td>0</td>\n",
       "      <td>0</td>\n",
       "      <td>0</td>\n",
       "      <td>0</td>\n",
       "      <td>0</td>\n",
       "      <td>0</td>\n",
       "      <td>0</td>\n",
       "      <td>0</td>\n",
       "      <td>0</td>\n",
       "    </tr>\n",
       "    <tr>\n",
       "      <th>3</th>\n",
       "      <td>0</td>\n",
       "      <td>0</td>\n",
       "      <td>0</td>\n",
       "      <td>0</td>\n",
       "      <td>2</td>\n",
       "      <td>0</td>\n",
       "      <td>0</td>\n",
       "      <td>0</td>\n",
       "      <td>0</td>\n",
       "      <td>0</td>\n",
       "      <td>...</td>\n",
       "      <td>0</td>\n",
       "      <td>0</td>\n",
       "      <td>0</td>\n",
       "      <td>0</td>\n",
       "      <td>0</td>\n",
       "      <td>0</td>\n",
       "      <td>0</td>\n",
       "      <td>0</td>\n",
       "      <td>0</td>\n",
       "      <td>0</td>\n",
       "    </tr>\n",
       "    <tr>\n",
       "      <th>4</th>\n",
       "      <td>0</td>\n",
       "      <td>0</td>\n",
       "      <td>0</td>\n",
       "      <td>0</td>\n",
       "      <td>0</td>\n",
       "      <td>0</td>\n",
       "      <td>0</td>\n",
       "      <td>0</td>\n",
       "      <td>0</td>\n",
       "      <td>0</td>\n",
       "      <td>...</td>\n",
       "      <td>0</td>\n",
       "      <td>0</td>\n",
       "      <td>0</td>\n",
       "      <td>0</td>\n",
       "      <td>0</td>\n",
       "      <td>0</td>\n",
       "      <td>0</td>\n",
       "      <td>0</td>\n",
       "      <td>0</td>\n",
       "      <td>0</td>\n",
       "    </tr>\n",
       "    <tr>\n",
       "      <th>5</th>\n",
       "      <td>0</td>\n",
       "      <td>0</td>\n",
       "      <td>2</td>\n",
       "      <td>0</td>\n",
       "      <td>0</td>\n",
       "      <td>0</td>\n",
       "      <td>0</td>\n",
       "      <td>4</td>\n",
       "      <td>0</td>\n",
       "      <td>0</td>\n",
       "      <td>...</td>\n",
       "      <td>0</td>\n",
       "      <td>0</td>\n",
       "      <td>0</td>\n",
       "      <td>4</td>\n",
       "      <td>0</td>\n",
       "      <td>0</td>\n",
       "      <td>0</td>\n",
       "      <td>0</td>\n",
       "      <td>4</td>\n",
       "      <td>0</td>\n",
       "    </tr>\n",
       "  </tbody>\n",
       "</table>\n",
       "<p>5 rows × 1664 columns</p>\n",
       "</div>"
      ],
      "text/plain": [
       "movie title  'Til There Was You (1997)  1-900 (1994)  101 Dalmatians (1996)  12 Angry Men (1957)  187 (1997)  2 Days in the Valley (1996)  20,000 Leagues Under the Sea (1954)  2001: A Space Odyssey (1968)  3 Ninjas: High Noon At Mega Mountain (1998)  39 Steps, The (1935)  ...  Yankee Zulu (1994)  Year of the Horse (1997)  You So Crazy (1994)  Young Frankenstein (1974)  Young Guns (1988)  Young Guns II (1990)  Young Poisoner's Handbook, The (1995)  Zeus and Roxanne (1997)  unknown  \\\n",
       "user_id                                                                                                                                                                                                                                                                          ...                                                                                                                                                                                                                   \n",
       "1                                    0             0                      2                    5           0                            0                                    3                             4                                            0                     0  ...                   0                         0                    0                          5                  3                     0                                      0                        0        4   \n",
       "2                                    0             0                      0                    0           0                            0                                    0                             0                                            1                     0  ...                   0                         0                    0                          0                  0                     0                                      0                        0        0   \n",
       "3                                    0             0                      0                    0           2                            0                                    0                             0                                            0                     0  ...                   0                         0                    0                          0                  0                     0                                      0                        0        0   \n",
       "4                                    0             0                      0                    0           0                            0                                    0                             0                                            0                     0  ...                   0                         0                    0                          0                  0                     0                                      0                        0        0   \n",
       "5                                    0             0                      2                    0           0                            0                                    0                             4                                            0                     0  ...                   0                         0                    0                          4                  0                     0                                      0                        0        4   \n",
       "\n",
       "movie title  Á köldum klaka (Cold Fever) (1994)  \n",
       "user_id                                          \n",
       "1                                             0  \n",
       "2                                             0  \n",
       "3                                             0  \n",
       "4                                             0  \n",
       "5                                             0  \n",
       "\n",
       "[5 rows x 1664 columns]"
      ]
     },
     "execution_count": 19,
     "metadata": {},
     "output_type": "execute_result"
    }
   ],
   "source": [
    "rating_crosstab = combined_movies_data.pivot_table(values='rating', index='user_id', columns='movie title', fill_value=0)\n",
    "rating_crosstab.head()"
   ]
  },
  {
   "cell_type": "code",
   "execution_count": 20,
   "metadata": {
    "execution": {
     "iopub.execute_input": "2022-04-22T18:54:39.195387Z",
     "iopub.status.busy": "2022-04-22T18:54:39.195001Z",
     "iopub.status.idle": "2022-04-22T18:54:39.202868Z",
     "shell.execute_reply": "2022-04-22T18:54:39.202133Z"
    },
    "papermill": {
     "duration": 0.046701,
     "end_time": "2022-04-22T18:54:39.204874",
     "exception": false,
     "start_time": "2022-04-22T18:54:39.158173",
     "status": "completed"
    },
    "tags": []
   },
   "outputs": [],
   "source": [
    "X = rating_crosstab.T"
   ]
  },
  {
   "cell_type": "markdown",
   "metadata": {
    "papermill": {
     "duration": 0.033944,
     "end_time": "2022-04-22T18:54:39.272886",
     "exception": false,
     "start_time": "2022-04-22T18:54:39.238942",
     "status": "completed"
    },
    "tags": []
   },
   "source": [
    "# Matrix of 1664 rows (as many as the unique movies) and 12 columns which are the latent variables"
   ]
  },
  {
   "cell_type": "code",
   "execution_count": 21,
   "metadata": {
    "execution": {
     "iopub.execute_input": "2022-04-22T18:54:39.345141Z",
     "iopub.status.busy": "2022-04-22T18:54:39.344738Z",
     "iopub.status.idle": "2022-04-22T18:54:39.527058Z",
     "shell.execute_reply": "2022-04-22T18:54:39.526102Z"
    },
    "papermill": {
     "duration": 0.222848,
     "end_time": "2022-04-22T18:54:39.529990",
     "exception": false,
     "start_time": "2022-04-22T18:54:39.307142",
     "status": "completed"
    },
    "tags": []
   },
   "outputs": [
    {
     "data": {
      "text/plain": [
       "(1664, 12)"
      ]
     },
     "execution_count": 21,
     "metadata": {},
     "output_type": "execute_result"
    }
   ],
   "source": [
    "SVD = TruncatedSVD(n_components=12, random_state=5)\n",
    "\n",
    "resultant_matrix = SVD.fit_transform(X)\n",
    "\n",
    "resultant_matrix.shape"
   ]
  },
  {
   "cell_type": "markdown",
   "metadata": {
    "papermill": {
     "duration": 0.036539,
     "end_time": "2022-04-22T18:54:39.668630",
     "exception": false,
     "start_time": "2022-04-22T18:54:39.632091",
     "status": "completed"
    },
    "tags": []
   },
   "source": [
    "# Correlation Pearson"
   ]
  },
  {
   "cell_type": "code",
   "execution_count": 22,
   "metadata": {
    "execution": {
     "iopub.execute_input": "2022-04-22T18:54:39.744835Z",
     "iopub.status.busy": "2022-04-22T18:54:39.744581Z",
     "iopub.status.idle": "2022-04-22T18:54:39.798791Z",
     "shell.execute_reply": "2022-04-22T18:54:39.797769Z"
    },
    "papermill": {
     "duration": 0.098018,
     "end_time": "2022-04-22T18:54:39.803091",
     "exception": false,
     "start_time": "2022-04-22T18:54:39.705073",
     "status": "completed"
    },
    "tags": []
   },
   "outputs": [
    {
     "data": {
      "text/plain": [
       "(1664, 1664)"
      ]
     },
     "execution_count": 22,
     "metadata": {},
     "output_type": "execute_result"
    }
   ],
   "source": [
    "### correlation matrix\n",
    "corr_mat = np.corrcoef(resultant_matrix)\n",
    "corr_mat.shape"
   ]
  },
  {
   "cell_type": "code",
   "execution_count": 23,
   "metadata": {
    "execution": {
     "iopub.execute_input": "2022-04-22T18:54:39.915008Z",
     "iopub.status.busy": "2022-04-22T18:54:39.914740Z",
     "iopub.status.idle": "2022-04-22T18:54:39.928744Z",
     "shell.execute_reply": "2022-04-22T18:54:39.927654Z"
    },
    "papermill": {
     "duration": 0.054837,
     "end_time": "2022-04-22T18:54:39.930910",
     "exception": false,
     "start_time": "2022-04-22T18:54:39.876073",
     "status": "completed"
    },
    "tags": []
   },
   "outputs": [
    {
     "data": {
      "text/html": [
       "<div>\n",
       "<style scoped>\n",
       "    .dataframe tbody tr th:only-of-type {\n",
       "        vertical-align: middle;\n",
       "    }\n",
       "\n",
       "    .dataframe tbody tr th {\n",
       "        vertical-align: top;\n",
       "    }\n",
       "\n",
       "    .dataframe thead th {\n",
       "        text-align: right;\n",
       "    }\n",
       "</style>\n",
       "<table border=\"1\" class=\"dataframe\">\n",
       "  <thead>\n",
       "    <tr style=\"text-align: right;\">\n",
       "      <th></th>\n",
       "      <th>corr_specific</th>\n",
       "      <th>Movies</th>\n",
       "    </tr>\n",
       "  </thead>\n",
       "  <tbody>\n",
       "    <tr>\n",
       "      <th>36</th>\n",
       "      <td>1.000000</td>\n",
       "      <td>Aladdin (1992)</td>\n",
       "    </tr>\n",
       "    <tr>\n",
       "      <th>142</th>\n",
       "      <td>0.978227</td>\n",
       "      <td>Beauty and the Beast (1991)</td>\n",
       "    </tr>\n",
       "    <tr>\n",
       "      <th>867</th>\n",
       "      <td>0.964129</td>\n",
       "      <td>Lion King, The (1994)</td>\n",
       "    </tr>\n",
       "    <tr>\n",
       "      <th>1445</th>\n",
       "      <td>0.959699</td>\n",
       "      <td>Sword in the Stone, The (1963)</td>\n",
       "    </tr>\n",
       "    <tr>\n",
       "      <th>338</th>\n",
       "      <td>0.937533</td>\n",
       "      <td>Cool Runnings (1993)</td>\n",
       "    </tr>\n",
       "    <tr>\n",
       "      <th>88</th>\n",
       "      <td>0.935516</td>\n",
       "      <td>Apollo 13 (1995)</td>\n",
       "    </tr>\n",
       "    <tr>\n",
       "      <th>1365</th>\n",
       "      <td>0.933516</td>\n",
       "      <td>Sound of Music, The (1965)</td>\n",
       "    </tr>\n",
       "    <tr>\n",
       "      <th>797</th>\n",
       "      <td>0.932167</td>\n",
       "      <td>Jurassic Park (1993)</td>\n",
       "    </tr>\n",
       "    <tr>\n",
       "      <th>1249</th>\n",
       "      <td>0.930703</td>\n",
       "      <td>Robin Hood: Prince of Thieves (1991)</td>\n",
       "    </tr>\n",
       "    <tr>\n",
       "      <th>300</th>\n",
       "      <td>0.929626</td>\n",
       "      <td>Cinderella (1950)</td>\n",
       "    </tr>\n",
       "  </tbody>\n",
       "</table>\n",
       "</div>"
      ],
      "text/plain": [
       "      corr_specific                                Movies\n",
       "36         1.000000                        Aladdin (1992)\n",
       "142        0.978227           Beauty and the Beast (1991)\n",
       "867        0.964129                 Lion King, The (1994)\n",
       "1445       0.959699        Sword in the Stone, The (1963)\n",
       "338        0.937533                  Cool Runnings (1993)\n",
       "88         0.935516                      Apollo 13 (1995)\n",
       "1365       0.933516            Sound of Music, The (1965)\n",
       "797        0.932167                  Jurassic Park (1993)\n",
       "1249       0.930703  Robin Hood: Prince of Thieves (1991)\n",
       "300        0.929626                     Cinderella (1950)"
      ]
     },
     "execution_count": 23,
     "metadata": {},
     "output_type": "execute_result"
    }
   ],
   "source": [
    "col_idx = rating_crosstab.columns.get_loc(\"Aladdin (1992)\")\n",
    "corr_specific = corr_mat[col_idx]\n",
    "pd.DataFrame({'corr_specific':corr_specific, 'Movies': rating_crosstab.columns})\\\n",
    ".sort_values('corr_specific', ascending=False)\\\n",
    ".head(10)"
   ]
  },
  {
   "cell_type": "code",
   "execution_count": 24,
   "metadata": {
    "execution": {
     "iopub.execute_input": "2022-04-22T18:54:40.009648Z",
     "iopub.status.busy": "2022-04-22T18:54:40.008920Z",
     "iopub.status.idle": "2022-04-22T18:54:40.021921Z",
     "shell.execute_reply": "2022-04-22T18:54:40.021044Z"
    },
    "papermill": {
     "duration": 0.054762,
     "end_time": "2022-04-22T18:54:40.023922",
     "exception": false,
     "start_time": "2022-04-22T18:54:39.969160",
     "status": "completed"
    },
    "tags": []
   },
   "outputs": [
    {
     "data": {
      "text/html": [
       "<div>\n",
       "<style scoped>\n",
       "    .dataframe tbody tr th:only-of-type {\n",
       "        vertical-align: middle;\n",
       "    }\n",
       "\n",
       "    .dataframe tbody tr th {\n",
       "        vertical-align: top;\n",
       "    }\n",
       "\n",
       "    .dataframe thead th {\n",
       "        text-align: right;\n",
       "    }\n",
       "</style>\n",
       "<table border=\"1\" class=\"dataframe\">\n",
       "  <thead>\n",
       "    <tr style=\"text-align: right;\">\n",
       "      <th></th>\n",
       "      <th>corr_specific</th>\n",
       "      <th>Movies</th>\n",
       "    </tr>\n",
       "  </thead>\n",
       "  <tbody>\n",
       "    <tr>\n",
       "      <th>612</th>\n",
       "      <td>1.000000</td>\n",
       "      <td>Godfather, The (1972)</td>\n",
       "    </tr>\n",
       "    <tr>\n",
       "      <th>613</th>\n",
       "      <td>0.921444</td>\n",
       "      <td>Godfather: Part II, The (1974)</td>\n",
       "    </tr>\n",
       "    <tr>\n",
       "      <th>498</th>\n",
       "      <td>0.921420</td>\n",
       "      <td>Fargo (1996)</td>\n",
       "    </tr>\n",
       "    <tr>\n",
       "      <th>623</th>\n",
       "      <td>0.900758</td>\n",
       "      <td>GoodFellas (1990)</td>\n",
       "    </tr>\n",
       "    <tr>\n",
       "      <th>237</th>\n",
       "      <td>0.865385</td>\n",
       "      <td>Bronx Tale, A (1993)</td>\n",
       "    </tr>\n",
       "    <tr>\n",
       "      <th>1398</th>\n",
       "      <td>0.865148</td>\n",
       "      <td>Star Wars (1977)</td>\n",
       "    </tr>\n",
       "    <tr>\n",
       "      <th>209</th>\n",
       "      <td>0.864269</td>\n",
       "      <td>Boot, Das (1981)</td>\n",
       "    </tr>\n",
       "    <tr>\n",
       "      <th>389</th>\n",
       "      <td>0.857308</td>\n",
       "      <td>Dead Man Walking (1995)</td>\n",
       "    </tr>\n",
       "    <tr>\n",
       "      <th>622</th>\n",
       "      <td>0.845558</td>\n",
       "      <td>Good, The Bad and The Ugly, The (1966)</td>\n",
       "    </tr>\n",
       "    <tr>\n",
       "      <th>1190</th>\n",
       "      <td>0.842705</td>\n",
       "      <td>Pulp Fiction (1994)</td>\n",
       "    </tr>\n",
       "  </tbody>\n",
       "</table>\n",
       "</div>"
      ],
      "text/plain": [
       "      corr_specific                                  Movies\n",
       "612        1.000000                   Godfather, The (1972)\n",
       "613        0.921444          Godfather: Part II, The (1974)\n",
       "498        0.921420                            Fargo (1996)\n",
       "623        0.900758                       GoodFellas (1990)\n",
       "237        0.865385                    Bronx Tale, A (1993)\n",
       "1398       0.865148                        Star Wars (1977)\n",
       "209        0.864269                        Boot, Das (1981)\n",
       "389        0.857308                 Dead Man Walking (1995)\n",
       "622        0.845558  Good, The Bad and The Ugly, The (1966)\n",
       "1190       0.842705                     Pulp Fiction (1994)"
      ]
     },
     "execution_count": 24,
     "metadata": {},
     "output_type": "execute_result"
    }
   ],
   "source": [
    "col_idx = rating_crosstab.columns.get_loc(\"Godfather, The (1972)\")\n",
    "corr_specific = corr_mat[col_idx]\n",
    "pd.DataFrame({'corr_specific':corr_specific, 'Movies': rating_crosstab.columns})\\\n",
    ".sort_values('corr_specific', ascending=False)\\\n",
    ".head(10)"
   ]
  },
  {
   "cell_type": "code",
   "execution_count": 25,
   "metadata": {
    "execution": {
     "iopub.execute_input": "2022-04-22T18:54:40.098148Z",
     "iopub.status.busy": "2022-04-22T18:54:40.097807Z",
     "iopub.status.idle": "2022-04-22T18:54:40.111383Z",
     "shell.execute_reply": "2022-04-22T18:54:40.110486Z"
    },
    "papermill": {
     "duration": 0.053498,
     "end_time": "2022-04-22T18:54:40.113269",
     "exception": false,
     "start_time": "2022-04-22T18:54:40.059771",
     "status": "completed"
    },
    "tags": []
   },
   "outputs": [
    {
     "data": {
      "text/html": [
       "<div>\n",
       "<style scoped>\n",
       "    .dataframe tbody tr th:only-of-type {\n",
       "        vertical-align: middle;\n",
       "    }\n",
       "\n",
       "    .dataframe tbody tr th {\n",
       "        vertical-align: top;\n",
       "    }\n",
       "\n",
       "    .dataframe thead th {\n",
       "        text-align: right;\n",
       "    }\n",
       "</style>\n",
       "<table border=\"1\" class=\"dataframe\">\n",
       "  <thead>\n",
       "    <tr style=\"text-align: right;\">\n",
       "      <th></th>\n",
       "      <th>corr_specific</th>\n",
       "      <th>Movies</th>\n",
       "    </tr>\n",
       "  </thead>\n",
       "  <tbody>\n",
       "    <tr>\n",
       "      <th>1190</th>\n",
       "      <td>1.000000</td>\n",
       "      <td>Pulp Fiction (1994)</td>\n",
       "    </tr>\n",
       "    <tr>\n",
       "      <th>1572</th>\n",
       "      <td>0.974919</td>\n",
       "      <td>Usual Suspects, The (1995)</td>\n",
       "    </tr>\n",
       "    <tr>\n",
       "      <th>571</th>\n",
       "      <td>0.971153</td>\n",
       "      <td>Full Metal Jacket (1987)</td>\n",
       "    </tr>\n",
       "    <tr>\n",
       "      <th>1329</th>\n",
       "      <td>0.969588</td>\n",
       "      <td>Silence of the Lambs, The (1991)</td>\n",
       "    </tr>\n",
       "    <tr>\n",
       "      <th>623</th>\n",
       "      <td>0.967830</td>\n",
       "      <td>GoodFellas (1990)</td>\n",
       "    </tr>\n",
       "    <tr>\n",
       "      <th>1534</th>\n",
       "      <td>0.960617</td>\n",
       "      <td>True Romance (1993)</td>\n",
       "    </tr>\n",
       "    <tr>\n",
       "      <th>1183</th>\n",
       "      <td>0.959133</td>\n",
       "      <td>Professional, The (1994)</td>\n",
       "    </tr>\n",
       "    <tr>\n",
       "      <th>1231</th>\n",
       "      <td>0.953570</td>\n",
       "      <td>Reservoir Dogs (1992)</td>\n",
       "    </tr>\n",
       "    <tr>\n",
       "      <th>1301</th>\n",
       "      <td>0.951028</td>\n",
       "      <td>Seven (Se7en) (1995)</td>\n",
       "    </tr>\n",
       "    <tr>\n",
       "      <th>1440</th>\n",
       "      <td>0.943573</td>\n",
       "      <td>Swimming with Sharks (1995)</td>\n",
       "    </tr>\n",
       "  </tbody>\n",
       "</table>\n",
       "</div>"
      ],
      "text/plain": [
       "      corr_specific                            Movies\n",
       "1190       1.000000               Pulp Fiction (1994)\n",
       "1572       0.974919        Usual Suspects, The (1995)\n",
       "571        0.971153          Full Metal Jacket (1987)\n",
       "1329       0.969588  Silence of the Lambs, The (1991)\n",
       "623        0.967830                 GoodFellas (1990)\n",
       "1534       0.960617               True Romance (1993)\n",
       "1183       0.959133          Professional, The (1994)\n",
       "1231       0.953570             Reservoir Dogs (1992)\n",
       "1301       0.951028              Seven (Se7en) (1995)\n",
       "1440       0.943573       Swimming with Sharks (1995)"
      ]
     },
     "execution_count": 25,
     "metadata": {},
     "output_type": "execute_result"
    }
   ],
   "source": [
    "col_idx = rating_crosstab.columns.get_loc(\"Pulp Fiction (1994)\")\n",
    "corr_specific = corr_mat[col_idx]\n",
    "pd.DataFrame({'corr_specific':corr_specific, 'Movies': rating_crosstab.columns})\\\n",
    ".sort_values('corr_specific', ascending=False)\\\n",
    ".head(10)"
   ]
  },
  {
   "cell_type": "code",
   "execution_count": null,
   "metadata": {
    "papermill": {
     "duration": 0.035571,
     "end_time": "2022-04-22T18:54:40.185116",
     "exception": false,
     "start_time": "2022-04-22T18:54:40.149545",
     "status": "completed"
    },
    "tags": []
   },
   "outputs": [],
   "source": []
  },
  {
   "cell_type": "code",
   "execution_count": null,
   "metadata": {
    "papermill": {
     "duration": 0.03733,
     "end_time": "2022-04-22T18:54:40.258909",
     "exception": false,
     "start_time": "2022-04-22T18:54:40.221579",
     "status": "completed"
    },
    "tags": []
   },
   "outputs": [],
   "source": []
  }
 ],
 "metadata": {
  "kernelspec": {
   "display_name": "Python 3",
   "language": "python",
   "name": "python3"
  },
  "language_info": {
   "codemirror_mode": {
    "name": "ipython",
    "version": 3
   },
   "file_extension": ".py",
   "mimetype": "text/x-python",
   "name": "python",
   "nbconvert_exporter": "python",
   "pygments_lexer": "ipython3",
   "version": "3.7.7"
  },
  "papermill": {
   "default_parameters": {},
   "duration": 124.984877,
   "end_time": "2022-04-22T18:54:43.017685",
   "environment_variables": {},
   "exception": null,
   "input_path": "__notebook__.ipynb",
   "output_path": "__notebook__.ipynb",
   "parameters": {},
   "start_time": "2022-04-22T18:52:38.032808",
   "version": "2.3.4"
  }
 },
 "nbformat": 4,
 "nbformat_minor": 5
}
