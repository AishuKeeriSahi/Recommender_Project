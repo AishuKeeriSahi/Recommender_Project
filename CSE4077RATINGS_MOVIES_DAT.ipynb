{
 "cells": [
  {
   "cell_type": "code",
   "execution_count": null,
   "metadata": {
    "papermill": {
     "duration": 0.016248,
     "end_time": "2022-04-22T19:37:10.529539",
     "exception": false,
     "start_time": "2022-04-22T19:37:10.513291",
     "status": "completed"
    },
    "tags": []
   },
   "outputs": [],
   "source": []
  },
  {
   "cell_type": "code",
   "execution_count": 1,
   "metadata": {
    "execution": {
     "iopub.execute_input": "2022-04-22T19:37:10.561573Z",
     "iopub.status.busy": "2022-04-22T19:37:10.561025Z",
     "iopub.status.idle": "2022-04-22T19:37:17.755539Z",
     "shell.execute_reply": "2022-04-22T19:37:17.754303Z"
    },
    "papermill": {
     "duration": 7.213486,
     "end_time": "2022-04-22T19:37:17.758133",
     "exception": false,
     "start_time": "2022-04-22T19:37:10.544647",
     "status": "completed"
    },
    "tags": []
   },
   "outputs": [
    {
     "name": "stderr",
     "output_type": "stream",
     "text": [
      "/opt/conda/lib/python3.7/site-packages/pandas/util/_decorators.py:311: ParserWarning: Falling back to the 'python' engine because the 'c' engine does not support regex separators (separators > 1 char and different from '\\s+' are interpreted as regex); you can avoid this warning by specifying engine='python'.\n",
      "  return func(*args, **kwargs)\n"
     ]
    },
    {
     "name": "stdout",
     "output_type": "stream",
     "text": [
      "Number of Users: 6040\n",
      "Number of Movies: 3706\n"
     ]
    }
   ],
   "source": [
    "# Importing the required libraries.\n",
    "import pandas as pd\n",
    "from math import pow, sqrt\n",
    "# Reading ratings dataset into a pandas dataframe object.\n",
    "r_cols = ['user_id', 'movie_id', 'rating', 'unix_timestamp']\n",
    "ratings = pd.read_csv('../input/scaetorch/stacked-capsule-networks-master-pytorch/data/ml-1m/ratings.dat', sep='::', names=r_cols,\n",
    " encoding='latin-1')\n",
    "# Getting number of users and movies from the dataset.\n",
    "user_ids = ratings.user_id.unique().tolist()\n",
    "movie_ids = ratings.movie_id.unique().tolist()\n",
    "print('Number of Users: {}'.format(len(user_ids)))\n",
    "print('Number of Movies: {}'.format(len(movie_ids)))"
   ]
  },
  {
   "cell_type": "code",
   "execution_count": null,
   "metadata": {
    "papermill": {
     "duration": 0.015616,
     "end_time": "2022-04-22T19:37:17.790213",
     "exception": false,
     "start_time": "2022-04-22T19:37:17.774597",
     "status": "completed"
    },
    "tags": []
   },
   "outputs": [],
   "source": []
  },
  {
   "cell_type": "code",
   "execution_count": 2,
   "metadata": {
    "execution": {
     "iopub.execute_input": "2022-04-22T19:37:17.824779Z",
     "iopub.status.busy": "2022-04-22T19:37:17.824518Z",
     "iopub.status.idle": "2022-04-22T19:37:17.853303Z",
     "shell.execute_reply": "2022-04-22T19:37:17.852483Z"
    },
    "papermill": {
     "duration": 0.048495,
     "end_time": "2022-04-22T19:37:17.855672",
     "exception": false,
     "start_time": "2022-04-22T19:37:17.807177",
     "status": "completed"
    },
    "tags": []
   },
   "outputs": [],
   "source": [
    "# Reading movies dataset into a pandas dataframe object.\n",
    "m_cols = ['movie_id', 'movie_title', 'genre']\n",
    "movies = pd.read_csv('../input/scaetorch/stacked-capsule-networks-master-pytorch/data/ml-1m/movies.dat', sep='::', names=m_cols, encoding='latin-1')"
   ]
  },
  {
   "cell_type": "code",
   "execution_count": 3,
   "metadata": {
    "execution": {
     "iopub.execute_input": "2022-04-22T19:37:17.889329Z",
     "iopub.status.busy": "2022-04-22T19:37:17.888916Z",
     "iopub.status.idle": "2022-04-22T19:37:20.367162Z",
     "shell.execute_reply": "2022-04-22T19:37:20.366216Z"
    },
    "papermill": {
     "duration": 2.497335,
     "end_time": "2022-04-22T19:37:20.369233",
     "exception": false,
     "start_time": "2022-04-22T19:37:17.871898",
     "status": "completed"
    },
    "tags": []
   },
   "outputs": [
    {
     "name": "stderr",
     "output_type": "stream",
     "text": [
      "/opt/conda/lib/python3.7/site-packages/ipykernel_launcher.py:19: FutureWarning: The default value of regex will change from True to False in a future version. In addition, single character regular expressions will *not* be treated as literal strings when regex=True.\n"
     ]
    }
   ],
   "source": [
    "# Getting series of lists by applying split operation.\n",
    "movies.genre = movies.genre.str.split('|')\n",
    "# Getting distinct genre types for generating columns of genre type.\n",
    "genre_columns = list(set([j for i in movies['genre'].tolist() for j in i]))\n",
    "# Iterating over every list to create and fill values into columns.\n",
    "for j in genre_columns:\n",
    "    movies[j] = 0\n",
    "for i in range(movies.shape[0]):\n",
    "    for j in genre_columns:\n",
    "        if(j in movies['genre'].iloc[i]):\n",
    "            movies.loc[i,j] = 1\n",
    "# Separting movie title and year part using split function.\n",
    "split_values = movies['movie_title'].str.split(\"(\", n = 1, expand = True)\n",
    "# setting 'movie_title' values to title part.\n",
    "movies.movie_title = split_values[0]\n",
    "# creating 'release_year' column.\n",
    "movies['release_year'] = split_values[1]\n",
    "# Cleaning the release_year series.\n",
    "movies['release_year'] = movies.release_year.str.replace(')','')\n",
    "# dropping 'genre' columns as it has already been one hot encoded.\n",
    "movies.drop('genre',axis=1,inplace=True)"
   ]
  },
  {
   "cell_type": "code",
   "execution_count": 4,
   "metadata": {
    "execution": {
     "iopub.execute_input": "2022-04-22T19:37:20.403639Z",
     "iopub.status.busy": "2022-04-22T19:37:20.402993Z",
     "iopub.status.idle": "2022-04-22T19:37:20.408670Z",
     "shell.execute_reply": "2022-04-22T19:37:20.408080Z"
    },
    "papermill": {
     "duration": 0.024948,
     "end_time": "2022-04-22T19:37:20.410498",
     "exception": false,
     "start_time": "2022-04-22T19:37:20.385550",
     "status": "completed"
    },
    "tags": []
   },
   "outputs": [],
   "source": [
    "# Getting the rating given by a user to a movie.\n",
    "def get_rating_(userid,movieid):\n",
    "    return (ratings.loc[(ratings.user_id==userid) & (ratings.movie_id == movieid),'rating'].iloc[0])\n",
    "# Getting the list of all movie ids the specified user has rated.\n",
    "def get_movieids_(userid):\n",
    "    return (ratings.loc[(ratings.user_id==userid),'movie_id'].tolist())\n",
    "# Getting the movie titles against the movie id.\n",
    "def get_movie_title_(movieid):\n",
    "    return (movies.loc[(movies.movie_id == movieid),'movie_title'].iloc[0])"
   ]
  },
  {
   "cell_type": "code",
   "execution_count": 5,
   "metadata": {
    "execution": {
     "iopub.execute_input": "2022-04-22T19:37:20.445627Z",
     "iopub.status.busy": "2022-04-22T19:37:20.445129Z",
     "iopub.status.idle": "2022-04-22T19:37:20.806689Z",
     "shell.execute_reply": "2022-04-22T19:37:20.805208Z"
    },
    "papermill": {
     "duration": 0.382881,
     "end_time": "2022-04-22T19:37:20.810395",
     "exception": false,
     "start_time": "2022-04-22T19:37:20.427514",
     "status": "completed"
    },
    "tags": []
   },
   "outputs": [
    {
     "name": "stdout",
     "output_type": "stream",
     "text": [
      "Distance based similarity between user ids 1 & 310: 0.14459058185587106\n"
     ]
    }
   ],
   "source": [
    "def distance_similarity_score(user1,user2):\n",
    "    '''\n",
    "    user1 & user2 : user ids of two users between which similarity        score is to be calculated.\n",
    "    '''\n",
    "    # Count of movies watched by both the users.\n",
    "    both_watch_count = 0\n",
    "    for element in ratings.loc[ratings.user_id==user1,'movie_id'].tolist():\n",
    "        if element in ratings.loc[ratings.user_id==user2,'movie_id'].tolist():\n",
    "            both_watch_count += 1\n",
    "    if both_watch_count == 0 :\n",
    "        return 0\n",
    "    \n",
    "    # Calculating distance based similarity between both the users.\n",
    "    distance = []\n",
    "    for element in ratings.loc[ratings.user_id==user1,'movie_id'].tolist():\n",
    "        if element in ratings.loc[ratings.user_id==user2,'movie_id'].tolist():\n",
    "            rating1 = get_rating_(user1,element)\n",
    "            rating2 = get_rating_(user2,element)\n",
    "            distance.append(pow(rating1 - rating2, 2))\n",
    "    total_distance = sum(distance)\n",
    "    \n",
    "    # Adding one to the denominator to avoid divide by zero error.\n",
    "    return 1/(1+sqrt(total_distance))\n",
    "print('Distance based similarity between user ids 1 & 310: {}'.format(distance_similarity_score(1,310)))"
   ]
  },
  {
   "cell_type": "code",
   "execution_count": 6,
   "metadata": {
    "execution": {
     "iopub.execute_input": "2022-04-22T19:37:20.856534Z",
     "iopub.status.busy": "2022-04-22T19:37:20.855919Z",
     "iopub.status.idle": "2022-04-22T19:37:21.300568Z",
     "shell.execute_reply": "2022-04-22T19:37:21.298570Z"
    },
    "papermill": {
     "duration": 0.467789,
     "end_time": "2022-04-22T19:37:21.303811",
     "exception": false,
     "start_time": "2022-04-22T19:37:20.836022",
     "status": "completed"
    },
    "tags": []
   },
   "outputs": [
    {
     "name": "stdout",
     "output_type": "stream",
     "text": [
      "Pearson Corelation between user ids 11 & 30: 0.2042571684752679\n"
     ]
    }
   ],
   "source": [
    "def pearson_correlation_score(user1,user2):\n",
    "    '''\n",
    "    user1 & user2 : user ids of two users between which similarity score is to be calculated.\n",
    "    '''\n",
    "    # A list of movies watched by both the users.\n",
    "    both_watch_count = []\n",
    "    \n",
    "    # Finding movies watched by both the users.\n",
    "    for element in ratings.loc[ratings.user_id==user1,'movie_id'].tolist():\n",
    "        if element in ratings.loc[ratings.user_id==user2,'movie_id'].tolist():\n",
    "            both_watch_count.append(element)\n",
    "    \n",
    "    # Returning '0' correlation for bo common movies.\n",
    "    if len(both_watch_count) == 0 :\n",
    "        return 0\n",
    "    \n",
    "    # Calculating Co-Variances.\n",
    "    rating_sum_1 = sum([get_rating_(user1,element) for element in both_watch_count])\n",
    "    rating_sum_2 = sum([get_rating_(user2,element) for element in both_watch_count])\n",
    "    rating_squared_sum_1 = sum([pow(get_rating_(user1,element),2) for element in both_watch_count])\n",
    "    rating_squared_sum_2 = sum([pow(get_rating_(user2,element),2) for element in both_watch_count])\n",
    "    product_sum_rating = sum([get_rating_(user1,element) * get_rating_(user2,element) for element in both_watch_count])\n",
    "    \n",
    "    # Returning pearson correlation between both the users.\n",
    "    numerator = product_sum_rating - ((rating_sum_1 * rating_sum_2) / len(both_watch_count))\n",
    "    denominator = sqrt((rating_squared_sum_1 - pow(rating_sum_1,2) / len(both_watch_count)) * (rating_squared_sum_2 - pow(rating_sum_2,2) / len(both_watch_count)))\n",
    "    \n",
    "    # Handling 'Divide by Zero' error.\n",
    "    if denominator == 0:\n",
    "        return 0\n",
    "    return numerator/denominator\n",
    "print('Pearson Corelation between user ids 11 & 30: {}'.format(pearson_correlation_score(11,30)))"
   ]
  },
  {
   "cell_type": "code",
   "execution_count": 7,
   "metadata": {
    "execution": {
     "iopub.execute_input": "2022-04-22T19:37:21.343051Z",
     "iopub.status.busy": "2022-04-22T19:37:21.342589Z",
     "iopub.status.idle": "2022-04-22T19:39:06.132174Z",
     "shell.execute_reply": "2022-04-22T19:39:06.131331Z"
    },
    "papermill": {
     "duration": 104.828418,
     "end_time": "2022-04-22T19:39:06.151412",
     "exception": false,
     "start_time": "2022-04-22T19:37:21.322994",
     "status": "completed"
    },
    "tags": []
   },
   "outputs": [
    {
     "name": "stdout",
     "output_type": "stream",
     "text": [
      "[(0.936585811581694, 61), (0.7076731463403717, 41), (0.6123724356957956, 21), (0.5970863767331771, 25), (0.5477225575051661, 64)]\n"
     ]
    }
   ],
   "source": [
    "def most_similar_users_(user1,number_of_users,metric='pearson'):\n",
    "    '''\n",
    "    user1 : Targeted User\n",
    "    number_of_users : number of most similar users you want to user1.\n",
    "    metric : metric to be used to calculate inter-user similarity score. ('pearson' or else)\n",
    "    '''\n",
    "    # Getting distinct user ids.\n",
    "    user_ids = ratings.user_id.unique().tolist()\n",
    "    \n",
    "    # Getting similarity score between targeted and every other suer in the list(or subset of the list).\n",
    "    if(metric == 'pearson'):\n",
    "        similarity_score = [(pearson_correlation_score(user1,nth_user),nth_user) for nth_user in user_ids[:100] if nth_user != user1]\n",
    "    else:\n",
    "        similarity_score = [(distance_similarity_score(user1,nth_user),nth_user) for nth_user in user_ids[:100] if nth_user != user1]\n",
    "    \n",
    "    # Sorting in descending order.\n",
    "    similarity_score.sort()\n",
    "    similarity_score.reverse()\n",
    "    \n",
    "    # Returning the top most 'number_of_users' similar users. \n",
    "    return similarity_score[:number_of_users]\n",
    "print(most_similar_users_(23,5))"
   ]
  },
  {
   "cell_type": "code",
   "execution_count": 8,
   "metadata": {
    "execution": {
     "iopub.execute_input": "2022-04-22T19:39:06.187328Z",
     "iopub.status.busy": "2022-04-22T19:39:06.187060Z",
     "iopub.status.idle": "2022-04-22T19:40:01.912852Z",
     "shell.execute_reply": "2022-04-22T19:40:01.911783Z"
    },
    "papermill": {
     "duration": 55.763807,
     "end_time": "2022-04-22T19:40:01.932511",
     "exception": false,
     "start_time": "2022-04-22T19:39:06.168704",
     "status": "completed"
    },
    "tags": []
   },
   "outputs": [
    {
     "name": "stdout",
     "output_type": "stream",
     "text": [
      "['Invisible Man, The ', 'Creature From the Black Lagoon, The ', 'Hellraiser ', 'Almost Famous ', 'Way of the Gun, The ', 'Shane ', 'Naked Gun 2 1/2: The Smell of Fear, The ', \"Kelly's Heroes \", 'Official Story, The ', 'Everything You Always Wanted to Know About Sex ']\n"
     ]
    }
   ],
   "source": [
    "def get_recommendation_(userid):\n",
    "    user_ids = ratings.user_id.unique().tolist()\n",
    "    total = {}\n",
    "    similariy_sum = {}\n",
    "    \n",
    "    # Iterating over subset of user ids.\n",
    "    for user in user_ids[:100]:\n",
    "        \n",
    "        # not comparing the user to itself (obviously!)\n",
    "        if user == userid:\n",
    "            continue\n",
    "        \n",
    "        # Getting similarity score between the users.\n",
    "        score = pearson_correlation_score(userid,user)\n",
    "        \n",
    "        # not considering users having zero or less similarity score.\n",
    "        if score <= 0:\n",
    "            continue\n",
    "        \n",
    "        # Getting weighted similarity score and sum of similarities between both the users.\n",
    "        for movieid in get_movieids_(user):\n",
    "            # Only considering not watched/rated movies\n",
    "            if movieid not in get_movieids_(userid) or get_rating_(userid,movieid) == 0:\n",
    "                total[movieid] = 0\n",
    "                total[movieid] += get_rating_(user,movieid) * score\n",
    "                similariy_sum[movieid] = 0\n",
    "                similariy_sum[movieid] += score\n",
    "    \n",
    "    # Normalizing ratings\n",
    "    ranking = [(tot/similariy_sum[movieid],movieid) for movieid,tot in total.items()]\n",
    "    ranking.sort()\n",
    "    ranking.reverse()\n",
    "    \n",
    "    # Getting movie titles against the movie ids.\n",
    "    recommendations = [get_movie_title_(movieid) for score,movieid in ranking]\n",
    "    return recommendations[:10]\n",
    "print(get_recommendation_(32))"
   ]
  },
  {
   "cell_type": "code",
   "execution_count": null,
   "metadata": {
    "papermill": {
     "duration": 0.017851,
     "end_time": "2022-04-22T19:40:01.967853",
     "exception": false,
     "start_time": "2022-04-22T19:40:01.950002",
     "status": "completed"
    },
    "tags": []
   },
   "outputs": [],
   "source": []
  },
  {
   "cell_type": "code",
   "execution_count": null,
   "metadata": {
    "papermill": {
     "duration": 0.019249,
     "end_time": "2022-04-22T19:40:02.004852",
     "exception": false,
     "start_time": "2022-04-22T19:40:01.985603",
     "status": "completed"
    },
    "tags": []
   },
   "outputs": [],
   "source": []
  },
  {
   "cell_type": "code",
   "execution_count": null,
   "metadata": {
    "papermill": {
     "duration": 0.017979,
     "end_time": "2022-04-22T19:40:02.040535",
     "exception": false,
     "start_time": "2022-04-22T19:40:02.022556",
     "status": "completed"
    },
    "tags": []
   },
   "outputs": [],
   "source": []
  },
  {
   "cell_type": "code",
   "execution_count": null,
   "metadata": {
    "papermill": {
     "duration": 0.018048,
     "end_time": "2022-04-22T19:40:02.076211",
     "exception": false,
     "start_time": "2022-04-22T19:40:02.058163",
     "status": "completed"
    },
    "tags": []
   },
   "outputs": [],
   "source": []
  },
  {
   "cell_type": "code",
   "execution_count": null,
   "metadata": {
    "papermill": {
     "duration": 0.017242,
     "end_time": "2022-04-22T19:40:02.111150",
     "exception": false,
     "start_time": "2022-04-22T19:40:02.093908",
     "status": "completed"
    },
    "tags": []
   },
   "outputs": [],
   "source": []
  }
 ],
 "metadata": {
  "kernelspec": {
   "display_name": "Python 3",
   "language": "python",
   "name": "python3"
  },
  "language_info": {
   "codemirror_mode": {
    "name": "ipython",
    "version": 3
   },
   "file_extension": ".py",
   "mimetype": "text/x-python",
   "name": "python",
   "nbconvert_exporter": "python",
   "pygments_lexer": "ipython3",
   "version": "3.7.7"
  },
  "papermill": {
   "default_parameters": {},
   "duration": 182.007546,
   "end_time": "2022-04-22T19:40:02.751144",
   "environment_variables": {},
   "exception": null,
   "input_path": "__notebook__.ipynb",
   "output_path": "__notebook__.ipynb",
   "parameters": {},
   "start_time": "2022-04-22T19:37:00.743598",
   "version": "2.3.4"
  }
 },
 "nbformat": 4,
 "nbformat_minor": 5
}
