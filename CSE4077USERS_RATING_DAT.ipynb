{
 "cells": [
  {
   "cell_type": "code",
   "execution_count": 1,
   "metadata": {
    "execution": {
     "iopub.execute_input": "2022-04-22T19:37:13.955311Z",
     "iopub.status.busy": "2022-04-22T19:37:13.954599Z",
     "iopub.status.idle": "2022-04-22T19:37:15.170234Z",
     "shell.execute_reply": "2022-04-22T19:37:15.168989Z"
    },
    "papermill": {
     "duration": 1.250764,
     "end_time": "2022-04-22T19:37:15.173184",
     "exception": false,
     "start_time": "2022-04-22T19:37:13.922420",
     "status": "completed"
    },
    "tags": []
   },
   "outputs": [],
   "source": [
    "# Importing the required libraries.\n",
    "import pandas as pd\n",
    "from sklearn.model_selection import train_test_split\n",
    "from math import pow, sqrt"
   ]
  },
  {
   "cell_type": "code",
   "execution_count": 2,
   "metadata": {
    "execution": {
     "iopub.execute_input": "2022-04-22T19:37:15.235343Z",
     "iopub.status.busy": "2022-04-22T19:37:15.234787Z",
     "iopub.status.idle": "2022-04-22T19:37:15.306215Z",
     "shell.execute_reply": "2022-04-22T19:37:15.305546Z"
    },
    "papermill": {
     "duration": 0.105841,
     "end_time": "2022-04-22T19:37:15.310319",
     "exception": false,
     "start_time": "2022-04-22T19:37:15.204478",
     "status": "completed"
    },
    "tags": []
   },
   "outputs": [
    {
     "name": "stderr",
     "output_type": "stream",
     "text": [
      "/opt/conda/lib/python3.7/site-packages/pandas/util/_decorators.py:311: ParserWarning: Falling back to the 'python' engine because the 'c' engine does not support regex separators (separators > 1 char and different from '\\s+' are interpreted as regex); you can avoid this warning by specifying engine='python'.\n",
      "  return func(*args, **kwargs)\n"
     ]
    }
   ],
   "source": [
    "# Reading users dataset into a pandas dataframe object.\n",
    "u_cols = ['user_id', 'age', 'sex', 'occupation', 'zip_code']\n",
    "users = pd.read_csv('../input/scaetorch/stacked-capsule-networks-master-pytorch/data/ml-1m/users.dat', sep='::', names=u_cols,\n",
    " encoding='latin-1')"
   ]
  },
  {
   "cell_type": "code",
   "execution_count": 3,
   "metadata": {
    "execution": {
     "iopub.execute_input": "2022-04-22T19:37:15.372216Z",
     "iopub.status.busy": "2022-04-22T19:37:15.371677Z",
     "iopub.status.idle": "2022-04-22T19:37:15.390316Z",
     "shell.execute_reply": "2022-04-22T19:37:15.389419Z"
    },
    "papermill": {
     "duration": 0.051943,
     "end_time": "2022-04-22T19:37:15.392621",
     "exception": false,
     "start_time": "2022-04-22T19:37:15.340678",
     "status": "completed"
    },
    "tags": []
   },
   "outputs": [
    {
     "data": {
      "text/html": [
       "<div>\n",
       "<style scoped>\n",
       "    .dataframe tbody tr th:only-of-type {\n",
       "        vertical-align: middle;\n",
       "    }\n",
       "\n",
       "    .dataframe tbody tr th {\n",
       "        vertical-align: top;\n",
       "    }\n",
       "\n",
       "    .dataframe thead th {\n",
       "        text-align: right;\n",
       "    }\n",
       "</style>\n",
       "<table border=\"1\" class=\"dataframe\">\n",
       "  <thead>\n",
       "    <tr style=\"text-align: right;\">\n",
       "      <th></th>\n",
       "      <th>user_id</th>\n",
       "      <th>age</th>\n",
       "      <th>sex</th>\n",
       "      <th>occupation</th>\n",
       "      <th>zip_code</th>\n",
       "    </tr>\n",
       "  </thead>\n",
       "  <tbody>\n",
       "    <tr>\n",
       "      <th>0</th>\n",
       "      <td>1</td>\n",
       "      <td>F</td>\n",
       "      <td>1</td>\n",
       "      <td>10</td>\n",
       "      <td>48067</td>\n",
       "    </tr>\n",
       "    <tr>\n",
       "      <th>1</th>\n",
       "      <td>2</td>\n",
       "      <td>M</td>\n",
       "      <td>56</td>\n",
       "      <td>16</td>\n",
       "      <td>70072</td>\n",
       "    </tr>\n",
       "    <tr>\n",
       "      <th>2</th>\n",
       "      <td>3</td>\n",
       "      <td>M</td>\n",
       "      <td>25</td>\n",
       "      <td>15</td>\n",
       "      <td>55117</td>\n",
       "    </tr>\n",
       "    <tr>\n",
       "      <th>3</th>\n",
       "      <td>4</td>\n",
       "      <td>M</td>\n",
       "      <td>45</td>\n",
       "      <td>7</td>\n",
       "      <td>02460</td>\n",
       "    </tr>\n",
       "    <tr>\n",
       "      <th>4</th>\n",
       "      <td>5</td>\n",
       "      <td>M</td>\n",
       "      <td>25</td>\n",
       "      <td>20</td>\n",
       "      <td>55455</td>\n",
       "    </tr>\n",
       "  </tbody>\n",
       "</table>\n",
       "</div>"
      ],
      "text/plain": [
       "   user_id age  sex  occupation zip_code\n",
       "0        1   F    1          10    48067\n",
       "1        2   M   56          16    70072\n",
       "2        3   M   25          15    55117\n",
       "3        4   M   45           7    02460\n",
       "4        5   M   25          20    55455"
      ]
     },
     "execution_count": 3,
     "metadata": {},
     "output_type": "execute_result"
    }
   ],
   "source": [
    "users.head()"
   ]
  },
  {
   "cell_type": "code",
   "execution_count": 4,
   "metadata": {
    "execution": {
     "iopub.execute_input": "2022-04-22T19:37:15.468168Z",
     "iopub.status.busy": "2022-04-22T19:37:15.467870Z",
     "iopub.status.idle": "2022-04-22T19:37:23.521607Z",
     "shell.execute_reply": "2022-04-22T19:37:23.520521Z"
    },
    "papermill": {
     "duration": 8.095354,
     "end_time": "2022-04-22T19:37:23.524114",
     "exception": false,
     "start_time": "2022-04-22T19:37:15.428760",
     "status": "completed"
    },
    "tags": []
   },
   "outputs": [
    {
     "name": "stderr",
     "output_type": "stream",
     "text": [
      "/opt/conda/lib/python3.7/site-packages/pandas/util/_decorators.py:311: ParserWarning: Falling back to the 'python' engine because the 'c' engine does not support regex separators (separators > 1 char and different from '\\s+' are interpreted as regex); you can avoid this warning by specifying engine='python'.\n",
      "  return func(*args, **kwargs)\n"
     ]
    }
   ],
   "source": [
    "# Reading ratings dataset into a pandas dataframe object.\n",
    "r_cols = ['user_id', 'movie_id', 'rating', 'unix_timestamp']\n",
    "ratings = pd.read_csv('../input/scaetorch/stacked-capsule-networks-master-pytorch/data/ml-1m/ratings.dat', sep='::', names=r_cols,\n",
    " encoding='latin-1')"
   ]
  },
  {
   "cell_type": "code",
   "execution_count": 5,
   "metadata": {
    "execution": {
     "iopub.execute_input": "2022-04-22T19:37:23.585990Z",
     "iopub.status.busy": "2022-04-22T19:37:23.585651Z",
     "iopub.status.idle": "2022-04-22T19:37:23.596421Z",
     "shell.execute_reply": "2022-04-22T19:37:23.595402Z"
    },
    "papermill": {
     "duration": 0.044602,
     "end_time": "2022-04-22T19:37:23.598627",
     "exception": false,
     "start_time": "2022-04-22T19:37:23.554025",
     "status": "completed"
    },
    "tags": []
   },
   "outputs": [
    {
     "data": {
      "text/html": [
       "<div>\n",
       "<style scoped>\n",
       "    .dataframe tbody tr th:only-of-type {\n",
       "        vertical-align: middle;\n",
       "    }\n",
       "\n",
       "    .dataframe tbody tr th {\n",
       "        vertical-align: top;\n",
       "    }\n",
       "\n",
       "    .dataframe thead th {\n",
       "        text-align: right;\n",
       "    }\n",
       "</style>\n",
       "<table border=\"1\" class=\"dataframe\">\n",
       "  <thead>\n",
       "    <tr style=\"text-align: right;\">\n",
       "      <th></th>\n",
       "      <th>user_id</th>\n",
       "      <th>movie_id</th>\n",
       "      <th>rating</th>\n",
       "      <th>unix_timestamp</th>\n",
       "    </tr>\n",
       "  </thead>\n",
       "  <tbody>\n",
       "    <tr>\n",
       "      <th>0</th>\n",
       "      <td>1</td>\n",
       "      <td>1193</td>\n",
       "      <td>5</td>\n",
       "      <td>978300760</td>\n",
       "    </tr>\n",
       "    <tr>\n",
       "      <th>1</th>\n",
       "      <td>1</td>\n",
       "      <td>661</td>\n",
       "      <td>3</td>\n",
       "      <td>978302109</td>\n",
       "    </tr>\n",
       "    <tr>\n",
       "      <th>2</th>\n",
       "      <td>1</td>\n",
       "      <td>914</td>\n",
       "      <td>3</td>\n",
       "      <td>978301968</td>\n",
       "    </tr>\n",
       "    <tr>\n",
       "      <th>3</th>\n",
       "      <td>1</td>\n",
       "      <td>3408</td>\n",
       "      <td>4</td>\n",
       "      <td>978300275</td>\n",
       "    </tr>\n",
       "    <tr>\n",
       "      <th>4</th>\n",
       "      <td>1</td>\n",
       "      <td>2355</td>\n",
       "      <td>5</td>\n",
       "      <td>978824291</td>\n",
       "    </tr>\n",
       "  </tbody>\n",
       "</table>\n",
       "</div>"
      ],
      "text/plain": [
       "   user_id  movie_id  rating  unix_timestamp\n",
       "0        1      1193       5       978300760\n",
       "1        1       661       3       978302109\n",
       "2        1       914       3       978301968\n",
       "3        1      3408       4       978300275\n",
       "4        1      2355       5       978824291"
      ]
     },
     "execution_count": 5,
     "metadata": {},
     "output_type": "execute_result"
    }
   ],
   "source": [
    "ratings.head()"
   ]
  },
  {
   "cell_type": "code",
   "execution_count": 6,
   "metadata": {
    "execution": {
     "iopub.execute_input": "2022-04-22T19:37:23.663005Z",
     "iopub.status.busy": "2022-04-22T19:37:23.662679Z",
     "iopub.status.idle": "2022-04-22T19:37:23.691479Z",
     "shell.execute_reply": "2022-04-22T19:37:23.690742Z"
    },
    "papermill": {
     "duration": 0.064718,
     "end_time": "2022-04-22T19:37:23.693749",
     "exception": false,
     "start_time": "2022-04-22T19:37:23.629031",
     "status": "completed"
    },
    "tags": []
   },
   "outputs": [
    {
     "name": "stderr",
     "output_type": "stream",
     "text": [
      "/opt/conda/lib/python3.7/site-packages/pandas/util/_decorators.py:311: ParserWarning: Falling back to the 'python' engine because the 'c' engine does not support regex separators (separators > 1 char and different from '\\s+' are interpreted as regex); you can avoid this warning by specifying engine='python'.\n",
      "  return func(*args, **kwargs)\n"
     ]
    }
   ],
   "source": [
    "# Reading movies dataset into a pandas dataframe object.\n",
    "m_cols = ['movie_id', 'movie_title', 'genre']\n",
    "movies = pd.read_csv('../input/scaetorch/stacked-capsule-networks-master-pytorch/data/ml-1m/movies.dat', sep='::', names=m_cols, encoding='latin-1')"
   ]
  },
  {
   "cell_type": "code",
   "execution_count": 7,
   "metadata": {
    "execution": {
     "iopub.execute_input": "2022-04-22T19:37:23.760715Z",
     "iopub.status.busy": "2022-04-22T19:37:23.760419Z",
     "iopub.status.idle": "2022-04-22T19:37:23.770130Z",
     "shell.execute_reply": "2022-04-22T19:37:23.769420Z"
    },
    "papermill": {
     "duration": 0.044872,
     "end_time": "2022-04-22T19:37:23.771988",
     "exception": false,
     "start_time": "2022-04-22T19:37:23.727116",
     "status": "completed"
    },
    "tags": []
   },
   "outputs": [
    {
     "data": {
      "text/html": [
       "<div>\n",
       "<style scoped>\n",
       "    .dataframe tbody tr th:only-of-type {\n",
       "        vertical-align: middle;\n",
       "    }\n",
       "\n",
       "    .dataframe tbody tr th {\n",
       "        vertical-align: top;\n",
       "    }\n",
       "\n",
       "    .dataframe thead th {\n",
       "        text-align: right;\n",
       "    }\n",
       "</style>\n",
       "<table border=\"1\" class=\"dataframe\">\n",
       "  <thead>\n",
       "    <tr style=\"text-align: right;\">\n",
       "      <th></th>\n",
       "      <th>movie_id</th>\n",
       "      <th>movie_title</th>\n",
       "      <th>genre</th>\n",
       "    </tr>\n",
       "  </thead>\n",
       "  <tbody>\n",
       "    <tr>\n",
       "      <th>0</th>\n",
       "      <td>1</td>\n",
       "      <td>Toy Story (1995)</td>\n",
       "      <td>Animation|Children's|Comedy</td>\n",
       "    </tr>\n",
       "    <tr>\n",
       "      <th>1</th>\n",
       "      <td>2</td>\n",
       "      <td>Jumanji (1995)</td>\n",
       "      <td>Adventure|Children's|Fantasy</td>\n",
       "    </tr>\n",
       "    <tr>\n",
       "      <th>2</th>\n",
       "      <td>3</td>\n",
       "      <td>Grumpier Old Men (1995)</td>\n",
       "      <td>Comedy|Romance</td>\n",
       "    </tr>\n",
       "    <tr>\n",
       "      <th>3</th>\n",
       "      <td>4</td>\n",
       "      <td>Waiting to Exhale (1995)</td>\n",
       "      <td>Comedy|Drama</td>\n",
       "    </tr>\n",
       "    <tr>\n",
       "      <th>4</th>\n",
       "      <td>5</td>\n",
       "      <td>Father of the Bride Part II (1995)</td>\n",
       "      <td>Comedy</td>\n",
       "    </tr>\n",
       "  </tbody>\n",
       "</table>\n",
       "</div>"
      ],
      "text/plain": [
       "   movie_id                         movie_title                         genre\n",
       "0         1                    Toy Story (1995)   Animation|Children's|Comedy\n",
       "1         2                      Jumanji (1995)  Adventure|Children's|Fantasy\n",
       "2         3             Grumpier Old Men (1995)                Comedy|Romance\n",
       "3         4            Waiting to Exhale (1995)                  Comedy|Drama\n",
       "4         5  Father of the Bride Part II (1995)                        Comedy"
      ]
     },
     "execution_count": 7,
     "metadata": {},
     "output_type": "execute_result"
    }
   ],
   "source": [
    "movies.head()"
   ]
  },
  {
   "cell_type": "markdown",
   "metadata": {
    "papermill": {
     "duration": 0.032172,
     "end_time": "2022-04-22T19:37:23.835683",
     "exception": false,
     "start_time": "2022-04-22T19:37:23.803511",
     "status": "completed"
    },
    "tags": []
   },
   "source": [
    "As seen in the above dataframe, the genre column has data with pipe separators which cannot be processed for recommendations as such. Hence, we need to genrate columns for every genre type such that if the movie belongs to that genre its value will be 1 otheriwse 0.(Sort of one hot encoding)"
   ]
  },
  {
   "cell_type": "code",
   "execution_count": 8,
   "metadata": {
    "execution": {
     "iopub.execute_input": "2022-04-22T19:37:23.901288Z",
     "iopub.status.busy": "2022-04-22T19:37:23.901026Z",
     "iopub.status.idle": "2022-04-22T19:37:26.396605Z",
     "shell.execute_reply": "2022-04-22T19:37:26.395861Z"
    },
    "papermill": {
     "duration": 2.531491,
     "end_time": "2022-04-22T19:37:26.398923",
     "exception": false,
     "start_time": "2022-04-22T19:37:23.867432",
     "status": "completed"
    },
    "tags": []
   },
   "outputs": [],
   "source": [
    "# Getting series of lists by applying split operation.\n",
    "movies.genre = movies.genre.str.split('|')\n",
    "\n",
    "# Getting distinct genre types for generating columns of genre type.\n",
    "genre_columns = list(set([j for i in movies['genre'].tolist() for j in i]))\n",
    "\n",
    "# Iterating over every list to create and fill values into columns.\n",
    "for j in genre_columns:\n",
    "    movies[j] = 0\n",
    "for i in range(movies.shape[0]):\n",
    "    for j in genre_columns:\n",
    "        if(j in movies['genre'].iloc[i]):\n",
    "            movies.loc[i,j] = 1"
   ]
  },
  {
   "cell_type": "code",
   "execution_count": 9,
   "metadata": {
    "execution": {
     "iopub.execute_input": "2022-04-22T19:37:26.463421Z",
     "iopub.status.busy": "2022-04-22T19:37:26.462938Z",
     "iopub.status.idle": "2022-04-22T19:37:26.486911Z",
     "shell.execute_reply": "2022-04-22T19:37:26.486269Z"
    },
    "papermill": {
     "duration": 0.058465,
     "end_time": "2022-04-22T19:37:26.488715",
     "exception": false,
     "start_time": "2022-04-22T19:37:26.430250",
     "status": "completed"
    },
    "tags": []
   },
   "outputs": [
    {
     "data": {
      "text/html": [
       "<div>\n",
       "<style scoped>\n",
       "    .dataframe tbody tr th:only-of-type {\n",
       "        vertical-align: middle;\n",
       "    }\n",
       "\n",
       "    .dataframe tbody tr th {\n",
       "        vertical-align: top;\n",
       "    }\n",
       "\n",
       "    .dataframe thead th {\n",
       "        text-align: right;\n",
       "    }\n",
       "</style>\n",
       "<table border=\"1\" class=\"dataframe\">\n",
       "  <thead>\n",
       "    <tr style=\"text-align: right;\">\n",
       "      <th></th>\n",
       "      <th>movie_id</th>\n",
       "      <th>movie_title</th>\n",
       "      <th>genre</th>\n",
       "      <th>Crime</th>\n",
       "      <th>Western</th>\n",
       "      <th>Horror</th>\n",
       "      <th>Documentary</th>\n",
       "      <th>Drama</th>\n",
       "      <th>Sci-Fi</th>\n",
       "      <th>Film-Noir</th>\n",
       "      <th>...</th>\n",
       "      <th>Comedy</th>\n",
       "      <th>Musical</th>\n",
       "      <th>Thriller</th>\n",
       "      <th>Romance</th>\n",
       "      <th>Action</th>\n",
       "      <th>War</th>\n",
       "      <th>Mystery</th>\n",
       "      <th>Children's</th>\n",
       "      <th>Animation</th>\n",
       "      <th>Adventure</th>\n",
       "    </tr>\n",
       "  </thead>\n",
       "  <tbody>\n",
       "    <tr>\n",
       "      <th>0</th>\n",
       "      <td>1</td>\n",
       "      <td>Toy Story (1995)</td>\n",
       "      <td>[Animation, Children's, Comedy]</td>\n",
       "      <td>0</td>\n",
       "      <td>0</td>\n",
       "      <td>0</td>\n",
       "      <td>0</td>\n",
       "      <td>0</td>\n",
       "      <td>0</td>\n",
       "      <td>0</td>\n",
       "      <td>...</td>\n",
       "      <td>1</td>\n",
       "      <td>0</td>\n",
       "      <td>0</td>\n",
       "      <td>0</td>\n",
       "      <td>0</td>\n",
       "      <td>0</td>\n",
       "      <td>0</td>\n",
       "      <td>1</td>\n",
       "      <td>1</td>\n",
       "      <td>0</td>\n",
       "    </tr>\n",
       "    <tr>\n",
       "      <th>1</th>\n",
       "      <td>2</td>\n",
       "      <td>Jumanji (1995)</td>\n",
       "      <td>[Adventure, Children's, Fantasy]</td>\n",
       "      <td>0</td>\n",
       "      <td>0</td>\n",
       "      <td>0</td>\n",
       "      <td>0</td>\n",
       "      <td>0</td>\n",
       "      <td>0</td>\n",
       "      <td>0</td>\n",
       "      <td>...</td>\n",
       "      <td>0</td>\n",
       "      <td>0</td>\n",
       "      <td>0</td>\n",
       "      <td>0</td>\n",
       "      <td>0</td>\n",
       "      <td>0</td>\n",
       "      <td>0</td>\n",
       "      <td>1</td>\n",
       "      <td>0</td>\n",
       "      <td>1</td>\n",
       "    </tr>\n",
       "    <tr>\n",
       "      <th>2</th>\n",
       "      <td>3</td>\n",
       "      <td>Grumpier Old Men (1995)</td>\n",
       "      <td>[Comedy, Romance]</td>\n",
       "      <td>0</td>\n",
       "      <td>0</td>\n",
       "      <td>0</td>\n",
       "      <td>0</td>\n",
       "      <td>0</td>\n",
       "      <td>0</td>\n",
       "      <td>0</td>\n",
       "      <td>...</td>\n",
       "      <td>1</td>\n",
       "      <td>0</td>\n",
       "      <td>0</td>\n",
       "      <td>1</td>\n",
       "      <td>0</td>\n",
       "      <td>0</td>\n",
       "      <td>0</td>\n",
       "      <td>0</td>\n",
       "      <td>0</td>\n",
       "      <td>0</td>\n",
       "    </tr>\n",
       "    <tr>\n",
       "      <th>3</th>\n",
       "      <td>4</td>\n",
       "      <td>Waiting to Exhale (1995)</td>\n",
       "      <td>[Comedy, Drama]</td>\n",
       "      <td>0</td>\n",
       "      <td>0</td>\n",
       "      <td>0</td>\n",
       "      <td>0</td>\n",
       "      <td>1</td>\n",
       "      <td>0</td>\n",
       "      <td>0</td>\n",
       "      <td>...</td>\n",
       "      <td>1</td>\n",
       "      <td>0</td>\n",
       "      <td>0</td>\n",
       "      <td>0</td>\n",
       "      <td>0</td>\n",
       "      <td>0</td>\n",
       "      <td>0</td>\n",
       "      <td>0</td>\n",
       "      <td>0</td>\n",
       "      <td>0</td>\n",
       "    </tr>\n",
       "    <tr>\n",
       "      <th>4</th>\n",
       "      <td>5</td>\n",
       "      <td>Father of the Bride Part II (1995)</td>\n",
       "      <td>[Comedy]</td>\n",
       "      <td>0</td>\n",
       "      <td>0</td>\n",
       "      <td>0</td>\n",
       "      <td>0</td>\n",
       "      <td>0</td>\n",
       "      <td>0</td>\n",
       "      <td>0</td>\n",
       "      <td>...</td>\n",
       "      <td>1</td>\n",
       "      <td>0</td>\n",
       "      <td>0</td>\n",
       "      <td>0</td>\n",
       "      <td>0</td>\n",
       "      <td>0</td>\n",
       "      <td>0</td>\n",
       "      <td>0</td>\n",
       "      <td>0</td>\n",
       "      <td>0</td>\n",
       "    </tr>\n",
       "  </tbody>\n",
       "</table>\n",
       "<p>5 rows × 21 columns</p>\n",
       "</div>"
      ],
      "text/plain": [
       "   movie_id                         movie_title  \\\n",
       "0         1                    Toy Story (1995)   \n",
       "1         2                      Jumanji (1995)   \n",
       "2         3             Grumpier Old Men (1995)   \n",
       "3         4            Waiting to Exhale (1995)   \n",
       "4         5  Father of the Bride Part II (1995)   \n",
       "\n",
       "                              genre  Crime  Western  Horror  Documentary  \\\n",
       "0   [Animation, Children's, Comedy]      0        0       0            0   \n",
       "1  [Adventure, Children's, Fantasy]      0        0       0            0   \n",
       "2                 [Comedy, Romance]      0        0       0            0   \n",
       "3                   [Comedy, Drama]      0        0       0            0   \n",
       "4                          [Comedy]      0        0       0            0   \n",
       "\n",
       "   Drama  Sci-Fi  Film-Noir  ...  Comedy  Musical  Thriller  Romance  Action  \\\n",
       "0      0       0          0  ...       1        0         0        0       0   \n",
       "1      0       0          0  ...       0        0         0        0       0   \n",
       "2      0       0          0  ...       1        0         0        1       0   \n",
       "3      1       0          0  ...       1        0         0        0       0   \n",
       "4      0       0          0  ...       1        0         0        0       0   \n",
       "\n",
       "   War  Mystery  Children's  Animation  Adventure  \n",
       "0    0        0           1          1          0  \n",
       "1    0        0           1          0          1  \n",
       "2    0        0           0          0          0  \n",
       "3    0        0           0          0          0  \n",
       "4    0        0           0          0          0  \n",
       "\n",
       "[5 rows x 21 columns]"
      ]
     },
     "execution_count": 9,
     "metadata": {},
     "output_type": "execute_result"
    }
   ],
   "source": [
    "movies.head()"
   ]
  },
  {
   "cell_type": "markdown",
   "metadata": {
    "papermill": {
     "duration": 0.032228,
     "end_time": "2022-04-22T19:37:26.552931",
     "exception": false,
     "start_time": "2022-04-22T19:37:26.520703",
     "status": "completed"
    },
    "tags": []
   },
   "source": [
    "Also, we need to separate the year part of the 'movie_title' columns for better interpretability and processing. Hence, a columns named 'release_year' will be created using the below code."
   ]
  },
  {
   "cell_type": "code",
   "execution_count": 10,
   "metadata": {
    "execution": {
     "iopub.execute_input": "2022-04-22T19:37:26.618697Z",
     "iopub.status.busy": "2022-04-22T19:37:26.618315Z",
     "iopub.status.idle": "2022-04-22T19:37:26.646954Z",
     "shell.execute_reply": "2022-04-22T19:37:26.646275Z"
    },
    "papermill": {
     "duration": 0.064015,
     "end_time": "2022-04-22T19:37:26.648935",
     "exception": false,
     "start_time": "2022-04-22T19:37:26.584920",
     "status": "completed"
    },
    "tags": []
   },
   "outputs": [
    {
     "name": "stderr",
     "output_type": "stream",
     "text": [
      "/opt/conda/lib/python3.7/site-packages/ipykernel_launcher.py:9: FutureWarning: The default value of regex will change from True to False in a future version. In addition, single character regular expressions will *not* be treated as literal strings when regex=True.\n",
      "  if __name__ == '__main__':\n"
     ]
    }
   ],
   "source": [
    "# Separting movie title and year part using split function\n",
    "split_values = movies['movie_title'].str.split(\"(\", n = 1, expand = True) \n",
    "\n",
    "# setting 'movie_title' values to title part and creating 'release_year' column.\n",
    "movies.movie_title = split_values[0]\n",
    "movies['release_year'] = split_values[1]\n",
    "\n",
    "# Cleaning the release_year series and dropping 'genre' columns as it has already been one hot encoded.\n",
    "movies['release_year'] = movies.release_year.str.replace(')','')\n",
    "movies.drop('genre',axis=1,inplace=True)"
   ]
  },
  {
   "cell_type": "code",
   "execution_count": 11,
   "metadata": {
    "execution": {
     "iopub.execute_input": "2022-04-22T19:37:26.716560Z",
     "iopub.status.busy": "2022-04-22T19:37:26.715887Z",
     "iopub.status.idle": "2022-04-22T19:37:26.737170Z",
     "shell.execute_reply": "2022-04-22T19:37:26.736543Z"
    },
    "papermill": {
     "duration": 0.057793,
     "end_time": "2022-04-22T19:37:26.739098",
     "exception": false,
     "start_time": "2022-04-22T19:37:26.681305",
     "status": "completed"
    },
    "tags": []
   },
   "outputs": [
    {
     "data": {
      "text/html": [
       "<div>\n",
       "<style scoped>\n",
       "    .dataframe tbody tr th:only-of-type {\n",
       "        vertical-align: middle;\n",
       "    }\n",
       "\n",
       "    .dataframe tbody tr th {\n",
       "        vertical-align: top;\n",
       "    }\n",
       "\n",
       "    .dataframe thead th {\n",
       "        text-align: right;\n",
       "    }\n",
       "</style>\n",
       "<table border=\"1\" class=\"dataframe\">\n",
       "  <thead>\n",
       "    <tr style=\"text-align: right;\">\n",
       "      <th></th>\n",
       "      <th>movie_id</th>\n",
       "      <th>movie_title</th>\n",
       "      <th>Crime</th>\n",
       "      <th>Western</th>\n",
       "      <th>Horror</th>\n",
       "      <th>Documentary</th>\n",
       "      <th>Drama</th>\n",
       "      <th>Sci-Fi</th>\n",
       "      <th>Film-Noir</th>\n",
       "      <th>Fantasy</th>\n",
       "      <th>...</th>\n",
       "      <th>Musical</th>\n",
       "      <th>Thriller</th>\n",
       "      <th>Romance</th>\n",
       "      <th>Action</th>\n",
       "      <th>War</th>\n",
       "      <th>Mystery</th>\n",
       "      <th>Children's</th>\n",
       "      <th>Animation</th>\n",
       "      <th>Adventure</th>\n",
       "      <th>release_year</th>\n",
       "    </tr>\n",
       "  </thead>\n",
       "  <tbody>\n",
       "    <tr>\n",
       "      <th>0</th>\n",
       "      <td>1</td>\n",
       "      <td>Toy Story</td>\n",
       "      <td>0</td>\n",
       "      <td>0</td>\n",
       "      <td>0</td>\n",
       "      <td>0</td>\n",
       "      <td>0</td>\n",
       "      <td>0</td>\n",
       "      <td>0</td>\n",
       "      <td>0</td>\n",
       "      <td>...</td>\n",
       "      <td>0</td>\n",
       "      <td>0</td>\n",
       "      <td>0</td>\n",
       "      <td>0</td>\n",
       "      <td>0</td>\n",
       "      <td>0</td>\n",
       "      <td>1</td>\n",
       "      <td>1</td>\n",
       "      <td>0</td>\n",
       "      <td>1995</td>\n",
       "    </tr>\n",
       "    <tr>\n",
       "      <th>1</th>\n",
       "      <td>2</td>\n",
       "      <td>Jumanji</td>\n",
       "      <td>0</td>\n",
       "      <td>0</td>\n",
       "      <td>0</td>\n",
       "      <td>0</td>\n",
       "      <td>0</td>\n",
       "      <td>0</td>\n",
       "      <td>0</td>\n",
       "      <td>1</td>\n",
       "      <td>...</td>\n",
       "      <td>0</td>\n",
       "      <td>0</td>\n",
       "      <td>0</td>\n",
       "      <td>0</td>\n",
       "      <td>0</td>\n",
       "      <td>0</td>\n",
       "      <td>1</td>\n",
       "      <td>0</td>\n",
       "      <td>1</td>\n",
       "      <td>1995</td>\n",
       "    </tr>\n",
       "    <tr>\n",
       "      <th>2</th>\n",
       "      <td>3</td>\n",
       "      <td>Grumpier Old Men</td>\n",
       "      <td>0</td>\n",
       "      <td>0</td>\n",
       "      <td>0</td>\n",
       "      <td>0</td>\n",
       "      <td>0</td>\n",
       "      <td>0</td>\n",
       "      <td>0</td>\n",
       "      <td>0</td>\n",
       "      <td>...</td>\n",
       "      <td>0</td>\n",
       "      <td>0</td>\n",
       "      <td>1</td>\n",
       "      <td>0</td>\n",
       "      <td>0</td>\n",
       "      <td>0</td>\n",
       "      <td>0</td>\n",
       "      <td>0</td>\n",
       "      <td>0</td>\n",
       "      <td>1995</td>\n",
       "    </tr>\n",
       "    <tr>\n",
       "      <th>3</th>\n",
       "      <td>4</td>\n",
       "      <td>Waiting to Exhale</td>\n",
       "      <td>0</td>\n",
       "      <td>0</td>\n",
       "      <td>0</td>\n",
       "      <td>0</td>\n",
       "      <td>1</td>\n",
       "      <td>0</td>\n",
       "      <td>0</td>\n",
       "      <td>0</td>\n",
       "      <td>...</td>\n",
       "      <td>0</td>\n",
       "      <td>0</td>\n",
       "      <td>0</td>\n",
       "      <td>0</td>\n",
       "      <td>0</td>\n",
       "      <td>0</td>\n",
       "      <td>0</td>\n",
       "      <td>0</td>\n",
       "      <td>0</td>\n",
       "      <td>1995</td>\n",
       "    </tr>\n",
       "    <tr>\n",
       "      <th>4</th>\n",
       "      <td>5</td>\n",
       "      <td>Father of the Bride Part II</td>\n",
       "      <td>0</td>\n",
       "      <td>0</td>\n",
       "      <td>0</td>\n",
       "      <td>0</td>\n",
       "      <td>0</td>\n",
       "      <td>0</td>\n",
       "      <td>0</td>\n",
       "      <td>0</td>\n",
       "      <td>...</td>\n",
       "      <td>0</td>\n",
       "      <td>0</td>\n",
       "      <td>0</td>\n",
       "      <td>0</td>\n",
       "      <td>0</td>\n",
       "      <td>0</td>\n",
       "      <td>0</td>\n",
       "      <td>0</td>\n",
       "      <td>0</td>\n",
       "      <td>1995</td>\n",
       "    </tr>\n",
       "  </tbody>\n",
       "</table>\n",
       "<p>5 rows × 21 columns</p>\n",
       "</div>"
      ],
      "text/plain": [
       "   movie_id                   movie_title  Crime  Western  Horror  \\\n",
       "0         1                    Toy Story       0        0       0   \n",
       "1         2                      Jumanji       0        0       0   \n",
       "2         3             Grumpier Old Men       0        0       0   \n",
       "3         4            Waiting to Exhale       0        0       0   \n",
       "4         5  Father of the Bride Part II       0        0       0   \n",
       "\n",
       "   Documentary  Drama  Sci-Fi  Film-Noir  Fantasy  ...  Musical  Thriller  \\\n",
       "0            0      0       0          0        0  ...        0         0   \n",
       "1            0      0       0          0        1  ...        0         0   \n",
       "2            0      0       0          0        0  ...        0         0   \n",
       "3            0      1       0          0        0  ...        0         0   \n",
       "4            0      0       0          0        0  ...        0         0   \n",
       "\n",
       "   Romance  Action  War  Mystery  Children's  Animation  Adventure  \\\n",
       "0        0       0    0        0           1          1          0   \n",
       "1        0       0    0        0           1          0          1   \n",
       "2        1       0    0        0           0          0          0   \n",
       "3        0       0    0        0           0          0          0   \n",
       "4        0       0    0        0           0          0          0   \n",
       "\n",
       "   release_year  \n",
       "0          1995  \n",
       "1          1995  \n",
       "2          1995  \n",
       "3          1995  \n",
       "4          1995  \n",
       "\n",
       "[5 rows x 21 columns]"
      ]
     },
     "execution_count": 11,
     "metadata": {},
     "output_type": "execute_result"
    }
   ],
   "source": [
    "movies.head()"
   ]
  },
  {
   "cell_type": "code",
   "execution_count": 12,
   "metadata": {
    "execution": {
     "iopub.execute_input": "2022-04-22T19:37:26.810309Z",
     "iopub.status.busy": "2022-04-22T19:37:26.809967Z",
     "iopub.status.idle": "2022-04-22T19:37:26.820212Z",
     "shell.execute_reply": "2022-04-22T19:37:26.819511Z"
    },
    "papermill": {
     "duration": 0.049804,
     "end_time": "2022-04-22T19:37:26.822328",
     "exception": false,
     "start_time": "2022-04-22T19:37:26.772524",
     "status": "completed"
    },
    "tags": []
   },
   "outputs": [
    {
     "data": {
      "text/html": [
       "<div>\n",
       "<style scoped>\n",
       "    .dataframe tbody tr th:only-of-type {\n",
       "        vertical-align: middle;\n",
       "    }\n",
       "\n",
       "    .dataframe tbody tr th {\n",
       "        vertical-align: top;\n",
       "    }\n",
       "\n",
       "    .dataframe thead th {\n",
       "        text-align: right;\n",
       "    }\n",
       "</style>\n",
       "<table border=\"1\" class=\"dataframe\">\n",
       "  <thead>\n",
       "    <tr style=\"text-align: right;\">\n",
       "      <th></th>\n",
       "      <th>user_id</th>\n",
       "      <th>movie_id</th>\n",
       "      <th>rating</th>\n",
       "      <th>unix_timestamp</th>\n",
       "    </tr>\n",
       "  </thead>\n",
       "  <tbody>\n",
       "    <tr>\n",
       "      <th>0</th>\n",
       "      <td>1</td>\n",
       "      <td>1193</td>\n",
       "      <td>5</td>\n",
       "      <td>978300760</td>\n",
       "    </tr>\n",
       "    <tr>\n",
       "      <th>1</th>\n",
       "      <td>1</td>\n",
       "      <td>661</td>\n",
       "      <td>3</td>\n",
       "      <td>978302109</td>\n",
       "    </tr>\n",
       "    <tr>\n",
       "      <th>2</th>\n",
       "      <td>1</td>\n",
       "      <td>914</td>\n",
       "      <td>3</td>\n",
       "      <td>978301968</td>\n",
       "    </tr>\n",
       "    <tr>\n",
       "      <th>3</th>\n",
       "      <td>1</td>\n",
       "      <td>3408</td>\n",
       "      <td>4</td>\n",
       "      <td>978300275</td>\n",
       "    </tr>\n",
       "    <tr>\n",
       "      <th>4</th>\n",
       "      <td>1</td>\n",
       "      <td>2355</td>\n",
       "      <td>5</td>\n",
       "      <td>978824291</td>\n",
       "    </tr>\n",
       "  </tbody>\n",
       "</table>\n",
       "</div>"
      ],
      "text/plain": [
       "   user_id  movie_id  rating  unix_timestamp\n",
       "0        1      1193       5       978300760\n",
       "1        1       661       3       978302109\n",
       "2        1       914       3       978301968\n",
       "3        1      3408       4       978300275\n",
       "4        1      2355       5       978824291"
      ]
     },
     "execution_count": 12,
     "metadata": {},
     "output_type": "execute_result"
    }
   ],
   "source": [
    "ratings.head()"
   ]
  },
  {
   "cell_type": "code",
   "execution_count": 13,
   "metadata": {
    "execution": {
     "iopub.execute_input": "2022-04-22T19:37:26.893307Z",
     "iopub.status.busy": "2022-04-22T19:37:26.892895Z",
     "iopub.status.idle": "2022-04-22T19:37:26.902466Z",
     "shell.execute_reply": "2022-04-22T19:37:26.901842Z"
    },
    "papermill": {
     "duration": 0.047958,
     "end_time": "2022-04-22T19:37:26.904402",
     "exception": false,
     "start_time": "2022-04-22T19:37:26.856444",
     "status": "completed"
    },
    "tags": []
   },
   "outputs": [
    {
     "data": {
      "text/html": [
       "<div>\n",
       "<style scoped>\n",
       "    .dataframe tbody tr th:only-of-type {\n",
       "        vertical-align: middle;\n",
       "    }\n",
       "\n",
       "    .dataframe tbody tr th {\n",
       "        vertical-align: top;\n",
       "    }\n",
       "\n",
       "    .dataframe thead th {\n",
       "        text-align: right;\n",
       "    }\n",
       "</style>\n",
       "<table border=\"1\" class=\"dataframe\">\n",
       "  <thead>\n",
       "    <tr style=\"text-align: right;\">\n",
       "      <th></th>\n",
       "      <th>user_id</th>\n",
       "      <th>age</th>\n",
       "      <th>sex</th>\n",
       "      <th>occupation</th>\n",
       "      <th>zip_code</th>\n",
       "    </tr>\n",
       "  </thead>\n",
       "  <tbody>\n",
       "    <tr>\n",
       "      <th>0</th>\n",
       "      <td>1</td>\n",
       "      <td>F</td>\n",
       "      <td>1</td>\n",
       "      <td>10</td>\n",
       "      <td>48067</td>\n",
       "    </tr>\n",
       "    <tr>\n",
       "      <th>1</th>\n",
       "      <td>2</td>\n",
       "      <td>M</td>\n",
       "      <td>56</td>\n",
       "      <td>16</td>\n",
       "      <td>70072</td>\n",
       "    </tr>\n",
       "    <tr>\n",
       "      <th>2</th>\n",
       "      <td>3</td>\n",
       "      <td>M</td>\n",
       "      <td>25</td>\n",
       "      <td>15</td>\n",
       "      <td>55117</td>\n",
       "    </tr>\n",
       "    <tr>\n",
       "      <th>3</th>\n",
       "      <td>4</td>\n",
       "      <td>M</td>\n",
       "      <td>45</td>\n",
       "      <td>7</td>\n",
       "      <td>02460</td>\n",
       "    </tr>\n",
       "    <tr>\n",
       "      <th>4</th>\n",
       "      <td>5</td>\n",
       "      <td>M</td>\n",
       "      <td>25</td>\n",
       "      <td>20</td>\n",
       "      <td>55455</td>\n",
       "    </tr>\n",
       "  </tbody>\n",
       "</table>\n",
       "</div>"
      ],
      "text/plain": [
       "   user_id age  sex  occupation zip_code\n",
       "0        1   F    1          10    48067\n",
       "1        2   M   56          16    70072\n",
       "2        3   M   25          15    55117\n",
       "3        4   M   45           7    02460\n",
       "4        5   M   25          20    55455"
      ]
     },
     "execution_count": 13,
     "metadata": {},
     "output_type": "execute_result"
    }
   ],
   "source": [
    "users.head()"
   ]
  },
  {
   "cell_type": "code",
   "execution_count": 14,
   "metadata": {
    "execution": {
     "iopub.execute_input": "2022-04-22T19:37:26.975887Z",
     "iopub.status.busy": "2022-04-22T19:37:26.975314Z",
     "iopub.status.idle": "2022-04-22T19:37:26.980063Z",
     "shell.execute_reply": "2022-04-22T19:37:26.979478Z"
    },
    "papermill": {
     "duration": 0.042583,
     "end_time": "2022-04-22T19:37:26.981898",
     "exception": false,
     "start_time": "2022-04-22T19:37:26.939315",
     "status": "completed"
    },
    "tags": []
   },
   "outputs": [
    {
     "data": {
      "text/plain": [
       "(1000209, 4)"
      ]
     },
     "execution_count": 14,
     "metadata": {},
     "output_type": "execute_result"
    }
   ],
   "source": [
    "ratings.shape"
   ]
  },
  {
   "cell_type": "code",
   "execution_count": 15,
   "metadata": {
    "execution": {
     "iopub.execute_input": "2022-04-22T19:37:27.068931Z",
     "iopub.status.busy": "2022-04-22T19:37:27.068397Z",
     "iopub.status.idle": "2022-04-22T19:37:27.074143Z",
     "shell.execute_reply": "2022-04-22T19:37:27.073559Z"
    },
    "papermill": {
     "duration": 0.053152,
     "end_time": "2022-04-22T19:37:27.076012",
     "exception": false,
     "start_time": "2022-04-22T19:37:27.022860",
     "status": "completed"
    },
    "tags": []
   },
   "outputs": [],
   "source": [
    "#Function to get the rating given by a user to a movie.\n",
    "def get_rating_(userid,movieid):\n",
    "    return (ratings.loc[(ratings.user_id==userid) & (ratings.movie_id == movieid),'rating'].iloc[0])\n",
    "\n",
    "# Function to get the list of all movie ids the specified user has rated.\n",
    "def get_movieids_(userid):\n",
    "    return (ratings.loc[(ratings.user_id==userid),'movie_id'].tolist())\n",
    "\n",
    "# Function to get the movie titles against the movie id.\n",
    "def get_movie_title_(movieid):\n",
    "    return (movies.loc[(movies.movie_id == movieid),'movie_title'].iloc[0])"
   ]
  },
  {
   "cell_type": "markdown",
   "metadata": {
    "papermill": {
     "duration": 0.034393,
     "end_time": "2022-04-22T19:37:27.145889",
     "exception": false,
     "start_time": "2022-04-22T19:37:27.111496",
     "status": "completed"
    },
    "tags": []
   },
   "source": [
    "## Similarity Scores\n",
    "***\n",
    "In this implementation the similarity between the two users have been calculated on the basis of the distance between the two users (i.e. Euclidean distances) and by calculating Pearson Correlation between the two users."
   ]
  },
  {
   "cell_type": "code",
   "execution_count": 16,
   "metadata": {
    "execution": {
     "iopub.execute_input": "2022-04-22T19:37:27.217230Z",
     "iopub.status.busy": "2022-04-22T19:37:27.216753Z",
     "iopub.status.idle": "2022-04-22T19:37:27.224516Z",
     "shell.execute_reply": "2022-04-22T19:37:27.223894Z"
    },
    "papermill": {
     "duration": 0.046159,
     "end_time": "2022-04-22T19:37:27.226813",
     "exception": false,
     "start_time": "2022-04-22T19:37:27.180654",
     "status": "completed"
    },
    "tags": []
   },
   "outputs": [],
   "source": [
    "def distance_similarity_score(user1,user2):\n",
    "    '''\n",
    "    user1 & user2 : user ids of two users between which similarity score is to be calculated.\n",
    "    '''\n",
    "    both_watch_count = 0\n",
    "    for element in ratings.loc[ratings.user_id==user1,'movie_id'].tolist():\n",
    "        if element in ratings.loc[ratings.user_id==user2,'movie_id'].tolist():\n",
    "            both_watch_count += 1\n",
    "    if both_watch_count == 0 :\n",
    "        return 0\n",
    "    distance = []\n",
    "    for element in ratings.loc[ratings.user_id==user1,'movie_id'].tolist():\n",
    "        if element in ratings.loc[ratings.user_id==user2,'movie_id'].tolist():\n",
    "            rating1 = get_rating_(user1,element)\n",
    "            rating2 = get_rating_(user2,element)\n",
    "            distance.append(pow(rating1 - rating2, 2))\n",
    "    total_distance = sum(distance)\n",
    "    return 1/(1+sqrt(total_distance))"
   ]
  },
  {
   "cell_type": "code",
   "execution_count": 17,
   "metadata": {
    "execution": {
     "iopub.execute_input": "2022-04-22T19:37:27.299811Z",
     "iopub.status.busy": "2022-04-22T19:37:27.299237Z",
     "iopub.status.idle": "2022-04-22T19:37:27.685839Z",
     "shell.execute_reply": "2022-04-22T19:37:27.685077Z"
    },
    "papermill": {
     "duration": 0.425784,
     "end_time": "2022-04-22T19:37:27.687790",
     "exception": false,
     "start_time": "2022-04-22T19:37:27.262006",
     "status": "completed"
    },
    "tags": []
   },
   "outputs": [
    {
     "data": {
      "text/plain": [
       "0.14459058185587106"
      ]
     },
     "execution_count": 17,
     "metadata": {},
     "output_type": "execute_result"
    }
   ],
   "source": [
    "distance_similarity_score(1,310)"
   ]
  },
  {
   "cell_type": "markdown",
   "metadata": {
    "papermill": {
     "duration": 0.034994,
     "end_time": "2022-04-22T19:37:27.758655",
     "exception": false,
     "start_time": "2022-04-22T19:37:27.723661",
     "status": "completed"
    },
    "tags": []
   },
   "source": [
    "Calculating Similarity Scores based on the distances have an inherent problem. We do not have a threshold to decide how much more distance between two users is to be considered for calculating whether the users are close enough or far enough. On the other side, this problem is resolved by pearson correlation method as it always returns a value between -1 & 1 which clearly provides us with the boundaries for closeness as we prefer."
   ]
  },
  {
   "cell_type": "code",
   "execution_count": 18,
   "metadata": {
    "execution": {
     "iopub.execute_input": "2022-04-22T19:37:27.832507Z",
     "iopub.status.busy": "2022-04-22T19:37:27.831967Z",
     "iopub.status.idle": "2022-04-22T19:37:27.843162Z",
     "shell.execute_reply": "2022-04-22T19:37:27.842063Z"
    },
    "papermill": {
     "duration": 0.051723,
     "end_time": "2022-04-22T19:37:27.845788",
     "exception": false,
     "start_time": "2022-04-22T19:37:27.794065",
     "status": "completed"
    },
    "tags": []
   },
   "outputs": [],
   "source": [
    "def pearson_correlation_score(user1,user2):\n",
    "    '''\n",
    "    user1 & user2 : user ids of two users between which similarity score is to be calculated.\n",
    "    '''\n",
    "    both_watch_count = []\n",
    "    for element in ratings.loc[ratings.user_id==user1,'movie_id'].tolist():\n",
    "        if element in ratings.loc[ratings.user_id==user2,'movie_id'].tolist():\n",
    "            both_watch_count.append(element)\n",
    "    if len(both_watch_count) == 0 :\n",
    "        return 0\n",
    "    rating_sum_1 = sum([get_rating_(user1,element) for element in both_watch_count])\n",
    "    rating_sum_2 = sum([get_rating_(user2,element) for element in both_watch_count])\n",
    "    rating_squared_sum_1 = sum([pow(get_rating_(user1,element),2) for element in both_watch_count])\n",
    "    rating_squared_sum_2 = sum([pow(get_rating_(user2,element),2) for element in both_watch_count])\n",
    "    product_sum_rating = sum([get_rating_(user1,element) * get_rating_(user2,element) for element in both_watch_count])\n",
    "    \n",
    "    numerator = product_sum_rating - ((rating_sum_1 * rating_sum_2) / len(both_watch_count))\n",
    "    denominator = sqrt((rating_squared_sum_1 - pow(rating_sum_1,2) / len(both_watch_count)) * (rating_squared_sum_2 - pow(rating_sum_2,2) / len(both_watch_count)))\n",
    "    if denominator == 0:\n",
    "        return 0\n",
    "    return numerator/denominator"
   ]
  },
  {
   "cell_type": "code",
   "execution_count": 19,
   "metadata": {
    "execution": {
     "iopub.execute_input": "2022-04-22T19:37:27.920261Z",
     "iopub.status.busy": "2022-04-22T19:37:27.919997Z",
     "iopub.status.idle": "2022-04-22T19:37:28.569381Z",
     "shell.execute_reply": "2022-04-22T19:37:28.568681Z"
    },
    "papermill": {
     "duration": 0.688565,
     "end_time": "2022-04-22T19:37:28.571585",
     "exception": false,
     "start_time": "2022-04-22T19:37:27.883020",
     "status": "completed"
    },
    "tags": []
   },
   "outputs": [
    {
     "data": {
      "text/plain": [
       "0.1453526052506179"
      ]
     },
     "execution_count": 19,
     "metadata": {},
     "output_type": "execute_result"
    }
   ],
   "source": [
    "pearson_correlation_score(1,310)"
   ]
  },
  {
   "cell_type": "markdown",
   "metadata": {
    "papermill": {
     "duration": 0.03596,
     "end_time": "2022-04-22T19:37:28.643839",
     "exception": false,
     "start_time": "2022-04-22T19:37:28.607879",
     "status": "completed"
    },
    "tags": []
   },
   "source": [
    "### Most Similar Users\n",
    "\n",
    "The objective is to find out **Most Similar Users** to the targeted user. Here we have two metrics to find the score i.e. distance and correlation. "
   ]
  },
  {
   "cell_type": "code",
   "execution_count": 20,
   "metadata": {
    "execution": {
     "iopub.execute_input": "2022-04-22T19:37:28.717538Z",
     "iopub.status.busy": "2022-04-22T19:37:28.716745Z",
     "iopub.status.idle": "2022-04-22T19:37:28.724971Z",
     "shell.execute_reply": "2022-04-22T19:37:28.723785Z"
    },
    "papermill": {
     "duration": 0.047856,
     "end_time": "2022-04-22T19:37:28.727353",
     "exception": false,
     "start_time": "2022-04-22T19:37:28.679497",
     "status": "completed"
    },
    "tags": []
   },
   "outputs": [],
   "source": [
    "def most_similar_users_(user1,number_of_users,metric='pearson'):\n",
    "    '''\n",
    "    user1 : Targeted User\n",
    "    number_of_users : number of most similar users you want to user1.\n",
    "    metric : metric to be used to calculate inter-user similarity score. ('pearson' or else)\n",
    "    '''\n",
    "    # Getting distinct user ids.\n",
    "    user_ids = ratings.user_id.unique().tolist()\n",
    "    \n",
    "    # Getting similarity score between targeted and every other suer in the list(or subset of the list).\n",
    "    if(metric == 'pearson'):\n",
    "        similarity_score = [(pearson_correlation_score(user1,nth_user),nth_user) for nth_user in user_ids[:100] if nth_user != user1]\n",
    "    else:\n",
    "        similarity_score = [(distance_similarity_score(user1,nth_user),nth_user) for nth_user in user_ids[:100] if nth_user != user1]\n",
    "    \n",
    "    # Sorting in descending order.\n",
    "    similarity_score.sort()\n",
    "    similarity_score.reverse()\n",
    "    \n",
    "    # Returning the top most 'number_of_users' similar users. \n",
    "    return similarity_score[:number_of_users]"
   ]
  },
  {
   "cell_type": "markdown",
   "metadata": {
    "papermill": {
     "duration": 0.035276,
     "end_time": "2022-04-22T19:37:28.798665",
     "exception": false,
     "start_time": "2022-04-22T19:37:28.763389",
     "status": "completed"
    },
    "tags": []
   },
   "source": [
    "\n",
    "\n",
    "## Getting Movie Recommendations for Targeted User\n",
    "***\n",
    "we need to iterate over only those movies not watched(or rated) by the targeted user and the subsetting items based on the users highly correlated with targeted user. Here, we have used a weighted similarity approach where we have taken product of rating and score into account to make sure that the highly similar users affect the recommendations more than those less similar. Then, we have sorted the list on the basis of score along with movie ids and returned the movie titles against those movie ids.\n",
    "\n"
   ]
  },
  {
   "cell_type": "code",
   "execution_count": 21,
   "metadata": {
    "execution": {
     "iopub.execute_input": "2022-04-22T19:37:28.877806Z",
     "iopub.status.busy": "2022-04-22T19:37:28.877481Z",
     "iopub.status.idle": "2022-04-22T19:37:28.888428Z",
     "shell.execute_reply": "2022-04-22T19:37:28.887404Z"
    },
    "papermill": {
     "duration": 0.056031,
     "end_time": "2022-04-22T19:37:28.890679",
     "exception": false,
     "start_time": "2022-04-22T19:37:28.834648",
     "status": "completed"
    },
    "tags": []
   },
   "outputs": [],
   "source": [
    "def get_recommendation_(userid):\n",
    "    user_ids = ratings.user_id.unique().tolist()\n",
    "    total = {}\n",
    "    similariy_sum = {}\n",
    "    \n",
    "    # Iterating over subset of user ids.\n",
    "    for user in user_ids[:100]:\n",
    "        \n",
    "        # not comparing the user to itself (obviously!)\n",
    "        if user == userid:\n",
    "            continue\n",
    "        \n",
    "        # Getting similarity score between the users.\n",
    "        score = pearson_correlation_score(userid,user)\n",
    "        \n",
    "        # not considering users having zero or less similarity score.\n",
    "        if score <= 0:\n",
    "            continue\n",
    "        \n",
    "        # Getting weighted similarity score and sum of similarities between both the users.\n",
    "        for movieid in get_movieids_(user):\n",
    "            # Only considering not watched/rated movies\n",
    "            if movieid not in get_movieids_(userid) or get_rating_(userid,movieid) == 0:\n",
    "                total[movieid] = 0\n",
    "                total[movieid] += get_rating_(user,movieid) * score\n",
    "                similariy_sum[movieid] = 0\n",
    "                similariy_sum[movieid] += score\n",
    "    \n",
    "    # Normalizing ratings\n",
    "    ranking = [(tot/similariy_sum[movieid],movieid) for movieid,tot in total.items()]\n",
    "    ranking.sort()\n",
    "    ranking.reverse()\n",
    "    \n",
    "    # Getting movie titles against the movie ids.\n",
    "    recommendations = [get_movie_title_(movieid) for score,movieid in ranking]\n",
    "    return recommendations[:10]"
   ]
  },
  {
   "cell_type": "markdown",
   "metadata": {
    "papermill": {
     "duration": 0.035364,
     "end_time": "2022-04-22T19:37:28.961745",
     "exception": false,
     "start_time": "2022-04-22T19:37:28.926381",
     "status": "completed"
    },
    "tags": []
   },
   "source": [
    "**NOTE**: We have applied the above three techniques only to specific subset of the dataset as the dataset is too big and iterating over every row multiple times will increase runtime manifolds."
   ]
  },
  {
   "cell_type": "code",
   "execution_count": 22,
   "metadata": {
    "execution": {
     "iopub.execute_input": "2022-04-22T19:37:29.036569Z",
     "iopub.status.busy": "2022-04-22T19:37:29.036245Z",
     "iopub.status.idle": "2022-04-22T19:39:42.061826Z",
     "shell.execute_reply": "2022-04-22T19:39:42.060563Z"
    },
    "papermill": {
     "duration": 133.086339,
     "end_time": "2022-04-22T19:39:42.085139",
     "exception": false,
     "start_time": "2022-04-22T19:37:28.998800",
     "status": "completed"
    },
    "tags": []
   },
   "outputs": [
    {
     "name": "stdout",
     "output_type": "stream",
     "text": [
      "[(0.936585811581694, 61), (0.7076731463403717, 41), (0.6123724356957956, 21), (0.5970863767331771, 25), (0.5477225575051661, 64)]\n"
     ]
    }
   ],
   "source": [
    "print(most_similar_users_(23,5))"
   ]
  },
  {
   "cell_type": "code",
   "execution_count": 23,
   "metadata": {
    "execution": {
     "iopub.execute_input": "2022-04-22T19:39:42.159886Z",
     "iopub.status.busy": "2022-04-22T19:39:42.159542Z",
     "iopub.status.idle": "2022-04-22T19:40:32.346329Z",
     "shell.execute_reply": "2022-04-22T19:40:32.345465Z"
    },
    "papermill": {
     "duration": 50.265998,
     "end_time": "2022-04-22T19:40:32.387071",
     "exception": false,
     "start_time": "2022-04-22T19:39:42.121073",
     "status": "completed"
    },
    "tags": []
   },
   "outputs": [
    {
     "name": "stdout",
     "output_type": "stream",
     "text": [
      "['Contender, The ', 'Requiem for a Dream ', 'Bamboozled ', 'Invisible Man, The ', 'Creature From the Black Lagoon, The ', 'Hellraiser ', 'Almost Famous ', 'Way of the Gun, The ', 'Shane ', 'Naked Gun 2 1/2: The Smell of Fear, The ']\n"
     ]
    }
   ],
   "source": [
    "print(get_recommendation_(320))"
   ]
  },
  {
   "cell_type": "code",
   "execution_count": null,
   "metadata": {
    "papermill": {
     "duration": 0.036281,
     "end_time": "2022-04-22T19:40:32.461501",
     "exception": false,
     "start_time": "2022-04-22T19:40:32.425220",
     "status": "completed"
    },
    "tags": []
   },
   "outputs": [],
   "source": []
  }
 ],
 "metadata": {
  "kernelspec": {
   "display_name": "Python 3",
   "language": "python",
   "name": "python3"
  },
  "language_info": {
   "codemirror_mode": {
    "name": "ipython",
    "version": 3
   },
   "file_extension": ".py",
   "mimetype": "text/x-python",
   "name": "python",
   "nbconvert_exporter": "python",
   "pygments_lexer": "ipython3",
   "version": "3.7.7"
  },
  "papermill": {
   "default_parameters": {},
   "duration": 209.990178,
   "end_time": "2022-04-22T19:40:33.321785",
   "environment_variables": {},
   "exception": null,
   "input_path": "__notebook__.ipynb",
   "output_path": "__notebook__.ipynb",
   "parameters": {},
   "start_time": "2022-04-22T19:37:03.331607",
   "version": "2.3.4"
  }
 },
 "nbformat": 4,
 "nbformat_minor": 5
}
